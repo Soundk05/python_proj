{
  "nbformat": 4,
  "nbformat_minor": 0,
  "metadata": {
    "colab": {
      "provenance": []
    },
    "kernelspec": {
      "name": "python3",
      "display_name": "Python 3"
    },
    "language_info": {
      "name": "python"
    }
  },
  "cells": [
    {
      "cell_type": "markdown",
      "source": [
        "#PySpark Practice Notebook\n",
        "Experimenting further with Spark Dataframes"
      ],
      "metadata": {
        "id": "vyfMDH344XZy"
      }
    },
    {
      "cell_type": "code",
      "execution_count": null,
      "metadata": {
        "id": "oEO4Bljq4SDh"
      },
      "outputs": [],
      "source": [
        "#Create CSV files for the following Datasets\n",
        "\n",
        "patients\n",
        "patientId,firstName,lastName,age\n",
        "101,Alice,Smith,30\n",
        "102,Bob,Johnson,45\n",
        "103,Charlie,Williams,50\n",
        "104,John,Smith,78\n",
        "\n",
        "visits\n",
        "visitId,patientId,visitDuration\n",
        "1,101,15\n",
        "2,101,30\n",
        "3,102,45\n",
        "4,102,30\n",
        "5,104,20\n",
        "6,103,60\n",
        "7,103,50\n",
        "8,104,45\n",
        "9,,45\n",
        "10,101,30\n",
        "11,103,40\n",
        "12,,30\n",
        "13,104,25\n",
        "15,102,15"
      ]
    },
    {
      "cell_type": "code",
      "source": [
        "!pip install pyspark"
      ],
      "metadata": {
        "id": "paB07u-Vw0Nt",
        "outputId": "812000eb-4a69-4996-befb-2b691703395c",
        "colab": {
          "base_uri": "https://localhost:8080/"
        }
      },
      "execution_count": 2,
      "outputs": [
        {
          "output_type": "stream",
          "name": "stdout",
          "text": [
            "Collecting pyspark\n",
            "  Downloading pyspark-3.5.1.tar.gz (317.0 MB)\n",
            "\u001b[2K     \u001b[90m━━━━━━━━━━━━━━━━━━━━━━━━━━━━━━━━━━━━━━━━\u001b[0m \u001b[32m317.0/317.0 MB\u001b[0m \u001b[31m2.1 MB/s\u001b[0m eta \u001b[36m0:00:00\u001b[0m\n",
            "\u001b[?25h  Preparing metadata (setup.py) ... \u001b[?25l\u001b[?25hdone\n",
            "Requirement already satisfied: py4j==0.10.9.7 in /usr/local/lib/python3.10/dist-packages (from pyspark) (0.10.9.7)\n",
            "Building wheels for collected packages: pyspark\n",
            "  Building wheel for pyspark (setup.py) ... \u001b[?25l\u001b[?25hdone\n",
            "  Created wheel for pyspark: filename=pyspark-3.5.1-py2.py3-none-any.whl size=317488490 sha256=e7f4c1ca6be5a32d225840dfd817536f7178af9fc7079fb468f0e6d4913b1048\n",
            "  Stored in directory: /root/.cache/pip/wheels/80/1d/60/2c256ed38dddce2fdd93be545214a63e02fbd8d74fb0b7f3a6\n",
            "Successfully built pyspark\n",
            "Installing collected packages: pyspark\n",
            "Successfully installed pyspark-3.5.1\n"
          ]
        }
      ]
    },
    {
      "cell_type": "code",
      "source": [
        "#Import necessary spark libraries\n",
        "from pyspark.sql import SparkSession\n",
        "from pyspark.sql.functions import *\n",
        "lti_spark = SparkSession.builder.appName(\"sound_lti\").getOrCreate()\n",
        "\n"
      ],
      "metadata": {
        "id": "G2y2JZQY4XAi"
      },
      "execution_count": 3,
      "outputs": []
    },
    {
      "cell_type": "code",
      "source": [],
      "metadata": {
        "id": "KHNgRfzexf9r"
      },
      "execution_count": null,
      "outputs": []
    },
    {
      "cell_type": "code",
      "source": [
        "%%writefile visits.csv\n",
        "visitId,patientId,visitDuration\n",
        "1,101,15\n",
        "2,101,30\n",
        "3,102,45\n",
        "4,102,30\n",
        "5,104,20\n",
        "6,103,60\n",
        "7,103,50\n",
        "8,104,45\n",
        "9,,45\n",
        "10,101,30\n",
        "11,103,40\n",
        "12,,30\n",
        "13,104,25\n",
        "15,102,15"
      ],
      "metadata": {
        "id": "oP9DHwyTxf3w",
        "outputId": "b38a050c-514f-4651-bc44-aed4fe3cc262",
        "colab": {
          "base_uri": "https://localhost:8080/"
        }
      },
      "execution_count": 37,
      "outputs": [
        {
          "output_type": "stream",
          "name": "stdout",
          "text": [
            "Overwriting visits.csv\n"
          ]
        }
      ]
    },
    {
      "cell_type": "code",
      "source": [
        "#Create dataframes from CSV files using enforced Schema\n",
        "#Schems Directive [Names as string, everything else as integers]\n",
        "%%writefile patients.csv\n",
        "patientId,firstName,lastName,age\n",
        "101,Alice,Smith,30\n",
        "102,Bob,Johnson,45\n",
        "103,Charlie,Williams,50\n",
        "104,John,Smith,78\n",
        "\n"
      ],
      "metadata": {
        "id": "VKkwIx3I6QOJ",
        "outputId": "c3ef9db8-87a8-4571-8c45-9ca8418b7ff3",
        "colab": {
          "base_uri": "https://localhost:8080/"
        }
      },
      "execution_count": 31,
      "outputs": [
        {
          "output_type": "stream",
          "name": "stdout",
          "text": [
            "Overwriting patients.csv\n"
          ]
        }
      ]
    },
    {
      "cell_type": "code",
      "source": [
        "pdf=lti_spark.read.csv(\"patients.csv\",header=True)\n",
        "vdf=lti_spark.read.csv(\"visits.csv\",header=True)"
      ],
      "metadata": {
        "id": "1GyiGhrhyH0g"
      },
      "execution_count": 32,
      "outputs": []
    },
    {
      "cell_type": "code",
      "source": [
        "#Display all the valid visits\n",
        "vdf.filter(vdf.patientId!=\" \").show()\n",
        "\n"
      ],
      "metadata": {
        "id": "B5Jx7nYN6QTo",
        "outputId": "2543ba16-77ac-4f92-f7a5-3a5cfb2cce61",
        "colab": {
          "base_uri": "https://localhost:8080/"
        }
      },
      "execution_count": 27,
      "outputs": [
        {
          "output_type": "stream",
          "name": "stdout",
          "text": [
            "+-------+---------+-------------+\n",
            "|visitId|patientId|visitDuration|\n",
            "+-------+---------+-------------+\n",
            "|      1|      101|           15|\n",
            "|      2|      101|           30|\n",
            "|      3|      102|           45|\n",
            "|      4|      102|           30|\n",
            "|      5|      104|           20|\n",
            "|      6|      103|           60|\n",
            "|      7|      103|           50|\n",
            "|      8|      104|           45|\n",
            "|     10|      101|           30|\n",
            "|     11|      103|           40|\n",
            "|     13|      104|           25|\n",
            "|     15|      102|           15|\n",
            "+-------+---------+-------------+\n",
            "\n"
          ]
        }
      ]
    },
    {
      "cell_type": "code",
      "source": [
        "#Fetch the total number of valid visits\n",
        "vdf.filter(vdf.patientId!=\" \").count()"
      ],
      "metadata": {
        "id": "HZLMVguvzFLt",
        "outputId": "3fd89677-53cb-4e5d-e8c3-3a1b9f4b3480",
        "colab": {
          "base_uri": "https://localhost:8080/"
        }
      },
      "execution_count": 28,
      "outputs": [
        {
          "output_type": "execute_result",
          "data": {
            "text/plain": [
              "12"
            ]
          },
          "metadata": {},
          "execution_count": 28
        }
      ]
    },
    {
      "cell_type": "code",
      "source": [
        "#Get the total hours of patient visit\n",
        "a=vdf.agg({\"visitDuration\":\"sum\"})\n",
        "b=a.collect()[0][0]\n",
        "vdf.withColumn(\"totalhour\",vdf.visitDuration/60).show()"
      ],
      "metadata": {
        "id": "kI7EdZZR6QV0",
        "outputId": "09c3f4d1-cf7c-4dc9-f364-5b3fa64d7854",
        "colab": {
          "base_uri": "https://localhost:8080/"
        }
      },
      "execution_count": 29,
      "outputs": [
        {
          "output_type": "stream",
          "name": "stdout",
          "text": [
            "+-------+---------+-------------+------------------+\n",
            "|visitId|patientId|visitDuration|         totalhour|\n",
            "+-------+---------+-------------+------------------+\n",
            "|      1|      101|           15|              0.25|\n",
            "|      2|      101|           30|               0.5|\n",
            "|      3|      102|           45|              0.75|\n",
            "|      4|      102|           30|               0.5|\n",
            "|      5|      104|           20|0.3333333333333333|\n",
            "|      6|      103|           60|               1.0|\n",
            "|      7|      103|           50|0.8333333333333334|\n",
            "|      8|      104|           45|              0.75|\n",
            "|      9|     NULL|           45|              0.75|\n",
            "|     10|      101|           30|               0.5|\n",
            "|     11|      103|           40|0.6666666666666666|\n",
            "|     12|     NULL|           30|               0.5|\n",
            "|     13|      104|           25|0.4166666666666667|\n",
            "|     15|      102|           15|              0.25|\n",
            "+-------+---------+-------------+------------------+\n",
            "\n"
          ]
        }
      ]
    },
    {
      "cell_type": "code",
      "source": [
        "#Fetch the top two most visited patients on the basis of occurances\n",
        "vdf.groupby(\"patientId\").count().orderBy(\"count\",ascending=False).show(2)"
      ],
      "metadata": {
        "id": "dLrXfV1f6QYT",
        "outputId": "8a464485-064e-4b86-a20a-333eea8baeef",
        "colab": {
          "base_uri": "https://localhost:8080/"
        }
      },
      "execution_count": 23,
      "outputs": [
        {
          "output_type": "stream",
          "name": "stdout",
          "text": [
            "+---------+-----+\n",
            "|patientId|count|\n",
            "+---------+-----+\n",
            "|      101|    3|\n",
            "|      104|    3|\n",
            "+---------+-----+\n",
            "only showing top 2 rows\n",
            "\n"
          ]
        }
      ]
    },
    {
      "cell_type": "code",
      "source": [
        "#Add a new column patientFullName & display complete dataframe\n",
        "pdf.withColumn(\"full_name\",concat_ws(\" \",\"firstName\",\"lastName\")).show()"
      ],
      "metadata": {
        "id": "T4M1XTw56Qat",
        "outputId": "2728dce8-b4a5-44c0-87db-6e6b7bf2d53b",
        "colab": {
          "base_uri": "https://localhost:8080/"
        }
      },
      "execution_count": 33,
      "outputs": [
        {
          "output_type": "stream",
          "name": "stdout",
          "text": [
            "+---------+---------+--------+---+----------------+\n",
            "|patientId|firstName|lastName|age|       full_name|\n",
            "+---------+---------+--------+---+----------------+\n",
            "|      101|    Alice|   Smith| 30|     Alice Smith|\n",
            "|      102|      Bob| Johnson| 45|     Bob Johnson|\n",
            "|      103|  Charlie|Williams| 50|Charlie Williams|\n",
            "|      104|     John|   Smith| 78|      John Smith|\n",
            "+---------+---------+--------+---+----------------+\n",
            "\n"
          ]
        }
      ]
    },
    {
      "cell_type": "code",
      "source": [
        "vdf=vdf.withColumn(\"visitDuration\",vdf[\"visitDuration\"].cast(\"integer\"))"
      ],
      "metadata": {
        "id": "nLLqsMK03kE5"
      },
      "execution_count": 40,
      "outputs": []
    },
    {
      "cell_type": "code",
      "source": [
        "#Display the name of patients with maximum visiting hours\n",
        "pdf.join(vdf,\"patientId\",\"full\").select([\"firstName\",\"visitDuration\",\"patientId\"]).groupby(\"patientId\").sum(\"visitDuration\").orderBy(\"sum(visitDuration)\",ascending=False).show()"
      ],
      "metadata": {
        "id": "Ecq6DnjA6QdB",
        "outputId": "f69227f6-c55c-4562-eb67-eaf03531de42",
        "colab": {
          "base_uri": "https://localhost:8080/"
        }
      },
      "execution_count": 48,
      "outputs": [
        {
          "output_type": "stream",
          "name": "stdout",
          "text": [
            "+---------+------------------+\n",
            "|patientId|sum(visitDuration)|\n",
            "+---------+------------------+\n",
            "|      103|               150|\n",
            "|      104|                90|\n",
            "|      102|                90|\n",
            "|      101|                75|\n",
            "|     NULL|                75|\n",
            "+---------+------------------+\n",
            "\n"
          ]
        }
      ]
    },
    {
      "cell_type": "code",
      "source": [
        "#Find the patient with maximum visiting hours in a single visit\n",
        "#vdf.printSchema()\n",
        "pdf.join(vdf,\"patientId\",\"full\").select(\"firstName\",\"visitDuration\").groupby(\"firstName\").max(\"visitDuration\").show()"
      ],
      "metadata": {
        "id": "TSqXIP_i6QfX",
        "outputId": "41c10735-7a1b-4533-ed45-f92d37aa7f85",
        "colab": {
          "base_uri": "https://localhost:8080/"
        }
      },
      "execution_count": 55,
      "outputs": [
        {
          "output_type": "stream",
          "name": "stdout",
          "text": [
            "+---------+------------------+\n",
            "|firstName|max(visitDuration)|\n",
            "+---------+------------------+\n",
            "|     NULL|                45|\n",
            "|  Charlie|                60|\n",
            "|      Bob|                45|\n",
            "|     John|                45|\n",
            "|    Alice|                30|\n",
            "+---------+------------------+\n",
            "\n"
          ]
        }
      ]
    },
    {
      "cell_type": "code",
      "source": [],
      "metadata": {
        "id": "qCMrvVh33UZZ"
      },
      "execution_count": null,
      "outputs": []
    },
    {
      "cell_type": "code",
      "source": [
        "#Show the patient info according to age-seniority\n",
        "pdf.sort(\"age\",ascending=False).show()"
      ],
      "metadata": {
        "id": "Arpnz5O36Qhu",
        "outputId": "f870a59f-0438-4154-a4c7-fd48c062eb66",
        "colab": {
          "base_uri": "https://localhost:8080/"
        }
      },
      "execution_count": 57,
      "outputs": [
        {
          "output_type": "stream",
          "name": "stdout",
          "text": [
            "+---------+---------+--------+---+\n",
            "|patientId|firstName|lastName|age|\n",
            "+---------+---------+--------+---+\n",
            "|      104|     John|   Smith| 78|\n",
            "|      103|  Charlie|Williams| 50|\n",
            "|      102|      Bob| Johnson| 45|\n",
            "|      101|    Alice|   Smith| 30|\n",
            "+---------+---------+--------+---+\n",
            "\n"
          ]
        }
      ]
    },
    {
      "cell_type": "code",
      "source": [],
      "metadata": {
        "id": "kkqwoaFM7Z6v"
      },
      "execution_count": null,
      "outputs": []
    }
  ]
}