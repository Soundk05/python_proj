{
  "nbformat": 4,
  "nbformat_minor": 0,
  "metadata": {
    "colab": {
      "provenance": []
    },
    "kernelspec": {
      "name": "python3",
      "display_name": "Python 3"
    },
    "language_info": {
      "name": "python"
    }
  },
  "cells": [
    {
      "cell_type": "markdown",
      "source": [
        "#SparkSQL\n",
        "\n",
        "Working with PySpark's built-in SQL compliant functionality to investigate flights-delay data at scale\n",
        "\n",
        "\n",
        "*   Understand the limitations of SparkSQL\n",
        "*   Experiment with createOrReplaceGlobalView\n",
        "*   Work on same executions through pyspark methods\n",
        "\n"
      ],
      "metadata": {
        "id": "u9qknWb9bfXd"
      }
    },
    {
      "cell_type": "code",
      "execution_count": null,
      "metadata": {
        "id": "XLzhcLK6bVbq"
      },
      "outputs": [],
      "source": [
        "#Download Data from source\n",
        "Data Source Repo - https://kloudbitbucket.s3.amazonaws.com/krunal_ds/departuredelays.csv"
      ]
    },
    {
      "cell_type": "code",
      "source": [
        "#Import necessary spark components\n",
        "!pip install pyspark"
      ],
      "metadata": {
        "id": "3UdCaWepbetc",
        "outputId": "a9e23183-2b49-49ac-f313-ccef0b7618b3",
        "colab": {
          "base_uri": "https://localhost:8080/"
        }
      },
      "execution_count": 1,
      "outputs": [
        {
          "output_type": "stream",
          "name": "stdout",
          "text": [
            "Collecting pyspark\n",
            "  Downloading pyspark-3.5.1.tar.gz (317.0 MB)\n",
            "\u001b[2K     \u001b[90m━━━━━━━━━━━━━━━━━━━━━━━━━━━━━━━━━━━━━━━━\u001b[0m \u001b[32m317.0/317.0 MB\u001b[0m \u001b[31m3.4 MB/s\u001b[0m eta \u001b[36m0:00:00\u001b[0m\n",
            "\u001b[?25h  Preparing metadata (setup.py) ... \u001b[?25l\u001b[?25hdone\n",
            "Requirement already satisfied: py4j==0.10.9.7 in /usr/local/lib/python3.10/dist-packages (from pyspark) (0.10.9.7)\n",
            "Building wheels for collected packages: pyspark\n",
            "  Building wheel for pyspark (setup.py) ... \u001b[?25l\u001b[?25hdone\n",
            "  Created wheel for pyspark: filename=pyspark-3.5.1-py2.py3-none-any.whl size=317488491 sha256=8120513f922b1381569868f171bb5c2e3bb4040a2bc34c3147319d6ff2dc4bdf\n",
            "  Stored in directory: /root/.cache/pip/wheels/80/1d/60/2c256ed38dddce2fdd93be545214a63e02fbd8d74fb0b7f3a6\n",
            "Successfully built pyspark\n",
            "Installing collected packages: pyspark\n",
            "Successfully installed pyspark-3.5.1\n"
          ]
        }
      ]
    },
    {
      "cell_type": "code",
      "source": [
        "from pyspark.sql import SparkSession\n"
      ],
      "metadata": {
        "id": "0mdiT-8oFsHD"
      },
      "execution_count": 3,
      "outputs": []
    },
    {
      "cell_type": "code",
      "source": [
        "#Create a SparkSession\n",
        "lti_spark = SparkSession.builder.appName('giri3').getOrCreate()\n",
        "lti_spark"
      ],
      "metadata": {
        "id": "6FP1wdXTbewW",
        "outputId": "b8a9185e-21d8-4746-c21e-671b2f44a3f4",
        "colab": {
          "base_uri": "https://localhost:8080/",
          "height": 219
        }
      },
      "execution_count": 5,
      "outputs": [
        {
          "output_type": "execute_result",
          "data": {
            "text/plain": [
              "<pyspark.sql.session.SparkSession at 0x7a632f824b20>"
            ],
            "text/html": [
              "\n",
              "            <div>\n",
              "                <p><b>SparkSession - in-memory</b></p>\n",
              "                \n",
              "        <div>\n",
              "            <p><b>SparkContext</b></p>\n",
              "\n",
              "            <p><a href=\"http://bf675b7262c9:4040\">Spark UI</a></p>\n",
              "\n",
              "            <dl>\n",
              "              <dt>Version</dt>\n",
              "                <dd><code>v3.5.1</code></dd>\n",
              "              <dt>Master</dt>\n",
              "                <dd><code>local[*]</code></dd>\n",
              "              <dt>AppName</dt>\n",
              "                <dd><code>giri3</code></dd>\n",
              "            </dl>\n",
              "        </div>\n",
              "        \n",
              "            </div>\n",
              "        "
            ]
          },
          "metadata": {},
          "execution_count": 5
        }
      ]
    },
    {
      "cell_type": "code",
      "source": [
        "#Import Data into Spark Native Dataframe\n",
        "df = lti_spark.read.option('Header','True').csv('/departuredelays.csv')\n",
        "df.show()"
      ],
      "metadata": {
        "id": "gXObRS7gbezU",
        "outputId": "f2a4c5f6-a1dd-4af8-f929-a1429a0eb1d0",
        "colab": {
          "base_uri": "https://localhost:8080/"
        }
      },
      "execution_count": 9,
      "outputs": [
        {
          "output_type": "stream",
          "name": "stdout",
          "text": [
            "+--------+-----+--------+------+-----------+\n",
            "|    date|delay|distance|origin|destination|\n",
            "+--------+-----+--------+------+-----------+\n",
            "|01011245|    6|     602|   ABE|        ATL|\n",
            "|01020600|   -8|     369|   ABE|        DTW|\n",
            "|01021245|   -2|     602|   ABE|        ATL|\n",
            "|01020605|   -4|     602|   ABE|        ATL|\n",
            "|01031245|   -4|     602|   ABE|        ATL|\n",
            "|01030605|    0|     602|   ABE|        ATL|\n",
            "|01041243|   10|     602|   ABE|        ATL|\n",
            "|01040605|   28|     602|   ABE|        ATL|\n",
            "|01051245|   88|     602|   ABE|        ATL|\n",
            "|01050605|    9|     602|   ABE|        ATL|\n",
            "|01061215|   -6|     602|   ABE|        ATL|\n",
            "|01061725|   69|     602|   ABE|        ATL|\n",
            "|01061230|    0|     369|   ABE|        DTW|\n",
            "|01060625|   -3|     602|   ABE|        ATL|\n",
            "|01070600|    0|     369|   ABE|        DTW|\n",
            "|01071725|    0|     602|   ABE|        ATL|\n",
            "|01071230|    0|     369|   ABE|        DTW|\n",
            "|01070625|    0|     602|   ABE|        ATL|\n",
            "|01071219|    0|     569|   ABE|        ORD|\n",
            "|01080600|    0|     369|   ABE|        DTW|\n",
            "+--------+-----+--------+------+-----------+\n",
            "only showing top 20 rows\n",
            "\n"
          ]
        }
      ]
    },
    {
      "cell_type": "code",
      "source": [
        "#Convert into an SQL complaint format\n",
        "d = df\n",
        "d.createOrReplaceTempView('delays')\n"
      ],
      "metadata": {
        "id": "DqYqJHizbe3y"
      },
      "execution_count": 10,
      "outputs": []
    },
    {
      "cell_type": "code",
      "source": [
        "#Display 100 rows of data with SQL query\n",
        "lti_spark.sql(\"select * from delays \").show()"
      ],
      "metadata": {
        "id": "MWu1GiPwbe6n",
        "outputId": "ffeccad2-7139-4e99-ac2f-1262dbcb81e7",
        "colab": {
          "base_uri": "https://localhost:8080/"
        }
      },
      "execution_count": 13,
      "outputs": [
        {
          "output_type": "stream",
          "name": "stdout",
          "text": [
            "+--------+-----+--------+------+-----------+\n",
            "|    date|delay|distance|origin|destination|\n",
            "+--------+-----+--------+------+-----------+\n",
            "|01011245|    6|     602|   ABE|        ATL|\n",
            "|01020600|   -8|     369|   ABE|        DTW|\n",
            "|01021245|   -2|     602|   ABE|        ATL|\n",
            "|01020605|   -4|     602|   ABE|        ATL|\n",
            "|01031245|   -4|     602|   ABE|        ATL|\n",
            "|01030605|    0|     602|   ABE|        ATL|\n",
            "|01041243|   10|     602|   ABE|        ATL|\n",
            "|01040605|   28|     602|   ABE|        ATL|\n",
            "|01051245|   88|     602|   ABE|        ATL|\n",
            "|01050605|    9|     602|   ABE|        ATL|\n",
            "|01061215|   -6|     602|   ABE|        ATL|\n",
            "|01061725|   69|     602|   ABE|        ATL|\n",
            "|01061230|    0|     369|   ABE|        DTW|\n",
            "|01060625|   -3|     602|   ABE|        ATL|\n",
            "|01070600|    0|     369|   ABE|        DTW|\n",
            "|01071725|    0|     602|   ABE|        ATL|\n",
            "|01071230|    0|     369|   ABE|        DTW|\n",
            "|01070625|    0|     602|   ABE|        ATL|\n",
            "|01071219|    0|     569|   ABE|        ORD|\n",
            "|01080600|    0|     369|   ABE|        DTW|\n",
            "+--------+-----+--------+------+-----------+\n",
            "only showing top 20 rows\n",
            "\n"
          ]
        }
      ]
    },
    {
      "cell_type": "code",
      "source": [
        "#Get a list of all Origin and Destination airports\n",
        "lti_spark.sql(\"select origin, destination from delays\").show()"
      ],
      "metadata": {
        "id": "eWGh0GpWcRsX",
        "outputId": "df8a09d3-6d14-4d97-badc-a11d4a9b9ab5",
        "colab": {
          "base_uri": "https://localhost:8080/"
        }
      },
      "execution_count": 16,
      "outputs": [
        {
          "output_type": "stream",
          "name": "stdout",
          "text": [
            "+------+-----------+\n",
            "|origin|destination|\n",
            "+------+-----------+\n",
            "|   ABE|        ATL|\n",
            "|   ABE|        DTW|\n",
            "|   ABE|        ATL|\n",
            "|   ABE|        ATL|\n",
            "|   ABE|        ATL|\n",
            "|   ABE|        ATL|\n",
            "|   ABE|        ATL|\n",
            "|   ABE|        ATL|\n",
            "|   ABE|        ATL|\n",
            "|   ABE|        ATL|\n",
            "|   ABE|        ATL|\n",
            "|   ABE|        ATL|\n",
            "|   ABE|        DTW|\n",
            "|   ABE|        ATL|\n",
            "|   ABE|        DTW|\n",
            "|   ABE|        ATL|\n",
            "|   ABE|        DTW|\n",
            "|   ABE|        ATL|\n",
            "|   ABE|        ORD|\n",
            "|   ABE|        DTW|\n",
            "+------+-----------+\n",
            "only showing top 20 rows\n",
            "\n"
          ]
        }
      ]
    },
    {
      "cell_type": "code",
      "source": [
        "#Find the top 5 longest distance travel routes\n",
        "lti_spark.sql(\"select * from delays order by distance limit 5\").show()"
      ],
      "metadata": {
        "id": "QKnQPgqicRvS",
        "outputId": "38e2ef72-f559-4718-cf1a-b4f320f030e6",
        "colab": {
          "base_uri": "https://localhost:8080/"
        }
      },
      "execution_count": 20,
      "outputs": [
        {
          "output_type": "stream",
          "name": "stdout",
          "text": [
            "+--------+-----+--------+------+-----------+\n",
            "|    date|delay|distance|origin|destination|\n",
            "+--------+-----+--------+------+-----------+\n",
            "|03010610|   -7|     100|   BDL|        EWR|\n",
            "|01071321|    0|     100|   BDL|        EWR|\n",
            "|03041010|   -9|     100|   BDL|        EWR|\n",
            "|01081015|   42|     100|   BDL|        EWR|\n",
            "|03020610|    4|     100|   BDL|        EWR|\n",
            "+--------+-----+--------+------+-----------+\n",
            "\n"
          ]
        }
      ]
    },
    {
      "cell_type": "code",
      "source": [
        "df.show()"
      ],
      "metadata": {
        "id": "KglLAnSgZHyh",
        "outputId": "a26189aa-fb50-487c-8295-fc3af3040b2a",
        "colab": {
          "base_uri": "https://localhost:8080/"
        }
      },
      "execution_count": 21,
      "outputs": [
        {
          "output_type": "stream",
          "name": "stdout",
          "text": [
            "+--------+-----+--------+------+-----------+\n",
            "|    date|delay|distance|origin|destination|\n",
            "+--------+-----+--------+------+-----------+\n",
            "|01011245|    6|     602|   ABE|        ATL|\n",
            "|01020600|   -8|     369|   ABE|        DTW|\n",
            "|01021245|   -2|     602|   ABE|        ATL|\n",
            "|01020605|   -4|     602|   ABE|        ATL|\n",
            "|01031245|   -4|     602|   ABE|        ATL|\n",
            "|01030605|    0|     602|   ABE|        ATL|\n",
            "|01041243|   10|     602|   ABE|        ATL|\n",
            "|01040605|   28|     602|   ABE|        ATL|\n",
            "|01051245|   88|     602|   ABE|        ATL|\n",
            "|01050605|    9|     602|   ABE|        ATL|\n",
            "|01061215|   -6|     602|   ABE|        ATL|\n",
            "|01061725|   69|     602|   ABE|        ATL|\n",
            "|01061230|    0|     369|   ABE|        DTW|\n",
            "|01060625|   -3|     602|   ABE|        ATL|\n",
            "|01070600|    0|     369|   ABE|        DTW|\n",
            "|01071725|    0|     602|   ABE|        ATL|\n",
            "|01071230|    0|     369|   ABE|        DTW|\n",
            "|01070625|    0|     602|   ABE|        ATL|\n",
            "|01071219|    0|     569|   ABE|        ORD|\n",
            "|01080600|    0|     369|   ABE|        DTW|\n",
            "+--------+-----+--------+------+-----------+\n",
            "only showing top 20 rows\n",
            "\n"
          ]
        }
      ]
    },
    {
      "cell_type": "code",
      "source": [
        "#Find top 3 origin airport with maximum flight delay occurances\n",
        "lti_spark.sql(\"select origin, count(delay) from delays where delay>0 group by origin order by count(delay) desc limit 3\").show()"
      ],
      "metadata": {
        "id": "-UNJNctPcRx2",
        "outputId": "2238ca03-4f87-454b-e022-b6f78840fbdf",
        "colab": {
          "base_uri": "https://localhost:8080/"
        }
      },
      "execution_count": 43,
      "outputs": [
        {
          "output_type": "stream",
          "name": "stdout",
          "text": [
            "+------+------------+\n",
            "|origin|count(delay)|\n",
            "+------+------------+\n",
            "|   ATL|       41828|\n",
            "|   ORD|       33812|\n",
            "|   DEN|       30760|\n",
            "+------+------------+\n",
            "\n"
          ]
        }
      ]
    },
    {
      "cell_type": "code",
      "source": [
        "#Find top 3 destination airport with maximum flight delay occurances\n",
        "lti_spark.sql(\"select destination, count(delay) from delays where delay>0 group by destination order by count(delay) desc limit 3\").show()"
      ],
      "metadata": {
        "id": "0YeWikvEcR0h",
        "outputId": "7d8e97e8-c506-4a44-eae2-9abb4525c080",
        "colab": {
          "base_uri": "https://localhost:8080/"
        }
      },
      "execution_count": 44,
      "outputs": [
        {
          "output_type": "stream",
          "name": "stdout",
          "text": [
            "+-----------+------------+\n",
            "|destination|count(delay)|\n",
            "+-----------+------------+\n",
            "|        ATL|       31973|\n",
            "|        ORD|       24425|\n",
            "|        DEN|       24001|\n",
            "+-----------+------------+\n",
            "\n"
          ]
        }
      ]
    },
    {
      "cell_type": "code",
      "source": [
        "#Find the route with maximum delay occurances\n",
        "lti_spark.sql(\"select origin, destination, count(delay) from delays where delay>0 group by origin,destination order by count(delay) desc\").limit(1).show()"
      ],
      "metadata": {
        "id": "dUJBKTwLcR34",
        "outputId": "a06bbf3e-834a-465e-a0d7-183054bd7b02",
        "colab": {
          "base_uri": "https://localhost:8080/"
        }
      },
      "execution_count": 42,
      "outputs": [
        {
          "output_type": "stream",
          "name": "stdout",
          "text": [
            "+------+-----------+------------+\n",
            "|origin|destination|count(delay)|\n",
            "+------+-----------+------------+\n",
            "|   LAX|        SFO|        1540|\n",
            "+------+-----------+------------+\n",
            "\n"
          ]
        }
      ]
    },
    {
      "cell_type": "code",
      "source": [
        "#Find the top three routes with maximum time-delay\n",
        "lti_spark.sql(\"select origin, destination from delays order by delay desc\").limit(3).show()"
      ],
      "metadata": {
        "id": "0OX5pSTqcR5s",
        "outputId": "61d819ca-36c8-4edd-c1c8-dd5d2967e39e",
        "colab": {
          "base_uri": "https://localhost:8080/"
        }
      },
      "execution_count": 45,
      "outputs": [
        {
          "output_type": "stream",
          "name": "stdout",
          "text": [
            "+------+-----------+\n",
            "|origin|destination|\n",
            "+------+-----------+\n",
            "|   SMF|        SLC|\n",
            "|   SJC|        ORD|\n",
            "|   MOT|        DEN|\n",
            "+------+-----------+\n",
            "\n"
          ]
        }
      ]
    },
    {
      "cell_type": "code",
      "source": [
        "#Find the distance for top three max time-delay routes\n",
        "lti_spark.sql(\"select * from delays order by delay desc\").limit(3).show()"
      ],
      "metadata": {
        "id": "oHf6MWCxcSAy",
        "outputId": "3277c856-e6b5-4f08-e711-55caf491ecd3",
        "colab": {
          "base_uri": "https://localhost:8080/"
        }
      },
      "execution_count": 48,
      "outputs": [
        {
          "output_type": "stream",
          "name": "stdout",
          "text": [
            "+--------+-----+--------+------+-----------+\n",
            "|    date|delay|distance|origin|destination|\n",
            "+--------+-----+--------+------+-----------+\n",
            "|01090600|  995|     462|   SMF|        SLC|\n",
            "|03191420|  994|    1590|   SJC|        ORD|\n",
            "|01200645|  993|     525|   MOT|        DEN|\n",
            "+--------+-----+--------+------+-----------+\n",
            "\n"
          ]
        }
      ]
    },
    {
      "cell_type": "code",
      "source": [],
      "metadata": {
        "id": "PQgPJ7GJksqM"
      },
      "execution_count": null,
      "outputs": []
    }
  ]
}