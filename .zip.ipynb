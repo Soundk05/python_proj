{
  "cells": [
    {
      "cell_type": "code",
      "source": [
        "import pandas as pd\n",
        "import regex as rx"
      ],
      "metadata": {
        "id": "DSWrdNFwk-UV"
      },
      "execution_count": 1,
      "outputs": []
    },
    {
      "cell_type": "code",
      "source": [
        "a='64.242.88.10 - - [07/Mar/2004:19:32:45 -0800] \"GET /twiki/bin/search/TWiki/?scope=topic&regex=on&search=^q HTTP/1.1\" 200 293'"
      ],
      "metadata": {
        "id": "BZU7Hz0Tk-Cy"
      },
      "execution_count": null,
      "outputs": []
    },
    {
      "cell_type": "code",
      "source": [
        "!pip install pyspark"
      ],
      "metadata": {
        "id": "b8SMG67JpV30",
        "outputId": "cb1de63e-94a4-4f7b-9a3f-cb89c97a667b",
        "colab": {
          "base_uri": "https://localhost:8080/"
        }
      },
      "execution_count": 2,
      "outputs": [
        {
          "output_type": "stream",
          "name": "stdout",
          "text": [
            "Collecting pyspark\n",
            "  Downloading pyspark-3.5.1.tar.gz (317.0 MB)\n",
            "\u001b[2K     \u001b[90m━━━━━━━━━━━━━━━━━━━━━━━━━━━━━━━━━━━━━━━━\u001b[0m \u001b[32m317.0/317.0 MB\u001b[0m \u001b[31m3.8 MB/s\u001b[0m eta \u001b[36m0:00:00\u001b[0m\n",
            "\u001b[?25h  Preparing metadata (setup.py) ... \u001b[?25l\u001b[?25hdone\n",
            "Requirement already satisfied: py4j==0.10.9.7 in /usr/local/lib/python3.10/dist-packages (from pyspark) (0.10.9.7)\n",
            "Building wheels for collected packages: pyspark\n",
            "  Building wheel for pyspark (setup.py) ... \u001b[?25l\u001b[?25hdone\n",
            "  Created wheel for pyspark: filename=pyspark-3.5.1-py2.py3-none-any.whl size=317488490 sha256=6d6801d5cc8552ef89c4ec35d0be978f069f069e18e11682a8e978a06dd7f70a\n",
            "  Stored in directory: /root/.cache/pip/wheels/80/1d/60/2c256ed38dddce2fdd93be545214a63e02fbd8d74fb0b7f3a6\n",
            "Successfully built pyspark\n",
            "Installing collected packages: pyspark\n",
            "Successfully installed pyspark-3.5.1\n"
          ]
        }
      ]
    },
    {
      "cell_type": "code",
      "source": [
        "from pyspark.sql import SparkSession\n",
        "from pyspark.sql.functions import *\n",
        "lti_spark=SparkSession.builder.appName('lti').getOrCreate()"
      ],
      "metadata": {
        "id": "d42qKmiLpVp1"
      },
      "execution_count": 3,
      "outputs": []
    },
    {
      "cell_type": "code",
      "source": [
        "#read the networkevent log file\n",
        "file1 = lti_spark.read.text(\"/content/networkevent.log\")"
      ],
      "metadata": {
        "id": "YL-pM8lGk98a"
      },
      "execution_count": 6,
      "outputs": []
    },
    {
      "cell_type": "code",
      "source": [
        "file1.show()"
      ],
      "metadata": {
        "id": "7loDwU0xk921",
        "outputId": "f3cd4c96-af69-4d55-c3d0-d3edc688cb21",
        "colab": {
          "base_uri": "https://localhost:8080/"
        }
      },
      "execution_count": 7,
      "outputs": [
        {
          "output_type": "stream",
          "name": "stdout",
          "text": [
            "+--------------------+\n",
            "|               value|\n",
            "+--------------------+\n",
            "|64.242.88.10 - - ...|\n",
            "|64.242.88.10 - - ...|\n",
            "|64.242.88.10 - - ...|\n",
            "|64.242.88.10 - - ...|\n",
            "|64.242.88.10 - - ...|\n",
            "|64.242.88.10 - - ...|\n",
            "|64.242.88.10 - - ...|\n",
            "|64.242.88.10 - - ...|\n",
            "|64.242.88.10 - - ...|\n",
            "|64.242.88.10 - - ...|\n",
            "|64.242.88.10 - - ...|\n",
            "|64.242.88.10 - - ...|\n",
            "|64.242.88.10 - - ...|\n",
            "|64.242.88.10 - - ...|\n",
            "|64.242.88.10 - - ...|\n",
            "|64.242.88.10 - - ...|\n",
            "|64.242.88.10 - - ...|\n",
            "|64.242.88.10 - - ...|\n",
            "|64.242.88.10 - - ...|\n",
            "|64.242.88.10 - - ...|\n",
            "+--------------------+\n",
            "only showing top 20 rows\n",
            "\n"
          ]
        }
      ]
    },
    {
      "cell_type": "code",
      "source": [
        "#pattern = (\"\\d\\d\\.\\d\\d\\d.\\d\\d.\\d\\d\")\n",
        "#pattern=(\"\\d{1,3}\\.\\d{1,3}\\.\\d{1,3}\\.\\d{1,3}\")\n",
        "pattern = (\"^\\d+\\.\\d+\\.\\d+\\.\\d+\")"
      ],
      "metadata": {
        "id": "vBl7OBxvk9r8"
      },
      "execution_count": 23,
      "outputs": []
    },
    {
      "cell_type": "code",
      "source": [
        "ip_df = file1.select(regexp_extract('value', pattern, 0).alias('ip'))"
      ],
      "metadata": {
        "id": "GSeXq6XerE7V"
      },
      "execution_count": 24,
      "outputs": []
    },
    {
      "cell_type": "code",
      "source": [
        "ip_df.show()"
      ],
      "metadata": {
        "id": "E5ZB7409qwvb",
        "outputId": "c6c73e17-ccc2-4282-e1b4-17fa49ae75d4",
        "colab": {
          "base_uri": "https://localhost:8080/"
        }
      },
      "execution_count": 27,
      "outputs": [
        {
          "output_type": "stream",
          "name": "stdout",
          "text": [
            "+------------+\n",
            "|          ip|\n",
            "+------------+\n",
            "|64.242.88.10|\n",
            "|64.242.88.10|\n",
            "|64.242.88.10|\n",
            "|64.242.88.10|\n",
            "|64.242.88.10|\n",
            "|64.242.88.10|\n",
            "|64.242.88.10|\n",
            "|64.242.88.10|\n",
            "|64.242.88.10|\n",
            "|64.242.88.10|\n",
            "|64.242.88.10|\n",
            "|64.242.88.10|\n",
            "|64.242.88.10|\n",
            "|64.242.88.10|\n",
            "|64.242.88.10|\n",
            "|64.242.88.10|\n",
            "|64.242.88.10|\n",
            "|64.242.88.10|\n",
            "|64.242.88.10|\n",
            "|64.242.88.10|\n",
            "+------------+\n",
            "only showing top 20 rows\n",
            "\n"
          ]
        }
      ]
    },
    {
      "cell_type": "code",
      "source": [
        "ip_df.groupby(\"ip\").count().show()"
      ],
      "metadata": {
        "id": "eouoAwI9sFMx",
        "outputId": "c7a5bcd8-3dd8-49a3-ae3a-282eb28b7e06",
        "colab": {
          "base_uri": "https://localhost:8080/"
        }
      },
      "execution_count": 28,
      "outputs": [
        {
          "output_type": "stream",
          "name": "stdout",
          "text": [
            "+---------------+-----+\n",
            "|             ip|count|\n",
            "+---------------+-----+\n",
            "|   219.95.17.51|    1|\n",
            "|  200.222.33.33|    1|\n",
            "|  64.246.94.152|    1|\n",
            "|  128.227.88.79|   14|\n",
            "|   80.58.35.111|    1|\n",
            "|      61.9.4.61|    3|\n",
            "|     10.0.0.153|   76|\n",
            "| 195.246.13.119|   12|\n",
            "|   66.213.206.2|    1|\n",
            "| 200.160.249.68|    2|\n",
            "| 213.54.168.132|   12|\n",
            "|195.230.181.122|    1|\n",
            "|               |  308|\n",
            "|   213.181.81.4|    1|\n",
            "|   212.92.37.62|   14|\n",
            "| 207.195.59.160|   20|\n",
            "|   64.242.88.10|  452|\n",
            "+---------------+-----+\n",
            "\n"
          ]
        }
      ]
    },
    {
      "cell_type": "code",
      "source": [
        "file1.withColumn(\"ip\", regexp_extract(\"value\", pattern, 0)).show()"
      ],
      "metadata": {
        "id": "plRwr4WEtXzI",
        "outputId": "059aff3d-aa59-4e54-ba6c-6ca91e6e0268",
        "colab": {
          "base_uri": "https://localhost:8080/"
        }
      },
      "execution_count": 29,
      "outputs": [
        {
          "output_type": "stream",
          "name": "stdout",
          "text": [
            "+--------------------+------------+\n",
            "|               value|          ip|\n",
            "+--------------------+------------+\n",
            "|64.242.88.10 - - ...|64.242.88.10|\n",
            "|64.242.88.10 - - ...|64.242.88.10|\n",
            "|64.242.88.10 - - ...|64.242.88.10|\n",
            "|64.242.88.10 - - ...|64.242.88.10|\n",
            "|64.242.88.10 - - ...|64.242.88.10|\n",
            "|64.242.88.10 - - ...|64.242.88.10|\n",
            "|64.242.88.10 - - ...|64.242.88.10|\n",
            "|64.242.88.10 - - ...|64.242.88.10|\n",
            "|64.242.88.10 - - ...|64.242.88.10|\n",
            "|64.242.88.10 - - ...|64.242.88.10|\n",
            "|64.242.88.10 - - ...|64.242.88.10|\n",
            "|64.242.88.10 - - ...|64.242.88.10|\n",
            "|64.242.88.10 - - ...|64.242.88.10|\n",
            "|64.242.88.10 - - ...|64.242.88.10|\n",
            "|64.242.88.10 - - ...|64.242.88.10|\n",
            "|64.242.88.10 - - ...|64.242.88.10|\n",
            "|64.242.88.10 - - ...|64.242.88.10|\n",
            "|64.242.88.10 - - ...|64.242.88.10|\n",
            "|64.242.88.10 - - ...|64.242.88.10|\n",
            "|64.242.88.10 - - ...|64.242.88.10|\n",
            "+--------------------+------------+\n",
            "only showing top 20 rows\n",
            "\n"
          ]
        }
      ]
    },
    {
      "cell_type": "code",
      "source": [],
      "metadata": {
        "id": "bx8DacIhus5B"
      },
      "execution_count": null,
      "outputs": []
    }
  ],
  "metadata": {
    "colab": {
      "name": "Welcome To Colab",
      "provenance": []
    },
    "kernelspec": {
      "display_name": "Python 3",
      "name": "python3"
    }
  },
  "nbformat": 4,
  "nbformat_minor": 0
}