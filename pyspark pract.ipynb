{
  "cells": [
    {
      "cell_type": "code",
      "source": [
        "pip install pyspark"
      ],
      "metadata": {
        "id": "J62gJ3VVGlwT",
        "outputId": "732e2a54-61b9-403e-f27b-13d66af1212a",
        "colab": {
          "base_uri": "https://localhost:8080/"
        }
      },
      "execution_count": 1,
      "outputs": [
        {
          "output_type": "stream",
          "name": "stdout",
          "text": [
            "Collecting pyspark\n",
            "  Downloading pyspark-3.5.1.tar.gz (317.0 MB)\n",
            "\u001b[2K     \u001b[90m━━━━━━━━━━━━━━━━━━━━━━━━━━━━━━━━━━━━━━━━\u001b[0m \u001b[32m317.0/317.0 MB\u001b[0m \u001b[31m4.3 MB/s\u001b[0m eta \u001b[36m0:00:00\u001b[0m\n",
            "\u001b[?25h  Preparing metadata (setup.py) ... \u001b[?25l\u001b[?25hdone\n",
            "Requirement already satisfied: py4j==0.10.9.7 in /usr/local/lib/python3.10/dist-packages (from pyspark) (0.10.9.7)\n",
            "Building wheels for collected packages: pyspark\n",
            "  Building wheel for pyspark (setup.py) ... \u001b[?25l\u001b[?25hdone\n",
            "  Created wheel for pyspark: filename=pyspark-3.5.1-py2.py3-none-any.whl size=317488493 sha256=f0598f76b65e2d6a8747f7fa6e2f6334e11b2635be6abe298fda9f5b65805919\n",
            "  Stored in directory: /root/.cache/pip/wheels/80/1d/60/2c256ed38dddce2fdd93be545214a63e02fbd8d74fb0b7f3a6\n",
            "Successfully built pyspark\n",
            "Installing collected packages: pyspark\n",
            "Successfully installed pyspark-3.5.1\n"
          ]
        }
      ]
    },
    {
      "cell_type": "code",
      "source": [
        "from pyspark.sql import SparkSession\n",
        "from pyspark.sql.functions import *"
      ],
      "metadata": {
        "id": "KWuNXYhbGnRl"
      },
      "execution_count": 2,
      "outputs": []
    },
    {
      "cell_type": "code",
      "source": [
        "%%writefile movies.csv\n",
        "movieId,artistId,role\n",
        "71,22,lead\n",
        "42,44,coact\n",
        "83,22,lead\n",
        "94,44,coact\n",
        "59,66,lead\n",
        "65,22,coact\n",
        "27,66,coact\n",
        "58,44,lead\n",
        "79,66,coact\n",
        "90,22,lead\n",
        "64,44,multistarrer\n",
        "74,88,multistarrer\n",
        "89,88,multistarrer"
      ],
      "metadata": {
        "id": "MwtIYoJbHhez",
        "outputId": "95ac4f94-c9c0-4c3d-ce0e-e8d729aa4436",
        "colab": {
          "base_uri": "https://localhost:8080/"
        }
      },
      "execution_count": 3,
      "outputs": [
        {
          "output_type": "stream",
          "name": "stdout",
          "text": [
            "Writing movies.csv\n"
          ]
        }
      ]
    },
    {
      "cell_type": "code",
      "source": [
        "%%writefile artist.csv\n",
        "artistId,artistName,age,genre\n",
        "22,jack,30,action\n",
        "44,john,38,comedy\n",
        "66,jill,18,drama\n",
        "88,hill,44,extra"
      ],
      "metadata": {
        "id": "-u2WY_wYHqL-",
        "outputId": "4b9ccbbe-4dff-45fb-a34e-994c1958b0db",
        "colab": {
          "base_uri": "https://localhost:8080/"
        }
      },
      "execution_count": 4,
      "outputs": [
        {
          "output_type": "stream",
          "name": "stdout",
          "text": [
            "Writing artist.csv\n"
          ]
        }
      ]
    },
    {
      "cell_type": "code",
      "source": [
        "lti_spark=SparkSession.builder.appName(\"lti_sound\").getOrCreate()"
      ],
      "metadata": {
        "id": "3sTMRXVYHzgk"
      },
      "execution_count": 5,
      "outputs": []
    },
    {
      "cell_type": "code",
      "source": [
        "df= lti_spark.read.csv(\"movies.csv\",header=True)"
      ],
      "metadata": {
        "id": "sE_hmBE3IDrK"
      },
      "execution_count": 6,
      "outputs": []
    },
    {
      "cell_type": "code",
      "source": [
        "df1=lti_spark.read.csv(\"artist.csv\",header=True)"
      ],
      "metadata": {
        "id": "j5PFMLNDIMo5"
      },
      "execution_count": 37,
      "outputs": []
    },
    {
      "cell_type": "code",
      "source": [
        "filter movies by role\n",
        "count roles per artist >> output artistId, rolecount\n",
        "display most popular roles (all roles actually) >> output as a list\n",
        "find top artist with maximum lead role\n",
        "display artist name below age 30 >> output as string"
      ],
      "metadata": {
        "id": "8TjO1LbnIUVB"
      },
      "execution_count": null,
      "outputs": []
    },
    {
      "cell_type": "code",
      "source": [
        "df.filter(df[\"role\"]==\"lead\").show()"
      ],
      "metadata": {
        "id": "_FyqarvXIXQR",
        "outputId": "fa5b682a-8dd8-4f7b-b9e2-fd7b5a4f3143",
        "colab": {
          "base_uri": "https://localhost:8080/"
        }
      },
      "execution_count": 14,
      "outputs": [
        {
          "output_type": "stream",
          "name": "stdout",
          "text": [
            "+-------+--------+----+\n",
            "|movieId|artistId|role|\n",
            "+-------+--------+----+\n",
            "|     71|      22|lead|\n",
            "|     83|      22|lead|\n",
            "|     59|      66|lead|\n",
            "|     58|      44|lead|\n",
            "|     90|      22|lead|\n",
            "+-------+--------+----+\n",
            "\n"
          ]
        }
      ]
    },
    {
      "cell_type": "code",
      "source": [
        "df.groupby(\"artistId\").count().show()"
      ],
      "metadata": {
        "id": "drpBGHoOIdz7",
        "outputId": "e6044b6a-b9ef-4ad0-e256-5488859105d6",
        "colab": {
          "base_uri": "https://localhost:8080/"
        }
      },
      "execution_count": 18,
      "outputs": [
        {
          "output_type": "stream",
          "name": "stdout",
          "text": [
            "+--------+-----+\n",
            "|artistId|count|\n",
            "+--------+-----+\n",
            "|      22|    4|\n",
            "|      44|    4|\n",
            "|      88|    2|\n",
            "|      66|    3|\n",
            "+--------+-----+\n",
            "\n"
          ]
        }
      ]
    },
    {
      "cell_type": "code",
      "source": [
        "#display most popular roles (all roles actually) >> output as a list\n",
        "a=df.groupby(\"role\").count()\n",
        "#a.rdd.flatMap(lambda x:[x[0]]).collect()\n",
        "a.rdd.flatMap(lambda x:[x[0]]).collect()"
      ],
      "metadata": {
        "id": "kMY-PKPGJ6CI",
        "outputId": "38b34c16-6a5e-436c-ec93-073088bf774b",
        "colab": {
          "base_uri": "https://localhost:8080/"
        }
      },
      "execution_count": 30,
      "outputs": [
        {
          "output_type": "execute_result",
          "data": {
            "text/plain": [
              "['coact', 'lead', 'multistarrer']"
            ]
          },
          "metadata": {},
          "execution_count": 30
        }
      ]
    },
    {
      "cell_type": "code",
      "source": [
        "#find top artist with maximum lead role\n",
        "df.filter(df[\"role\"]==\"lead\").groupby(\"artistId\").count().limit(1).show()"
      ],
      "metadata": {
        "id": "IuCRWgE3Kdv6",
        "outputId": "ef574876-7dd7-4213-f283-4337ab348a80",
        "colab": {
          "base_uri": "https://localhost:8080/"
        }
      },
      "execution_count": 33,
      "outputs": [
        {
          "output_type": "stream",
          "name": "stdout",
          "text": [
            "+--------+-----+\n",
            "|artistId|count|\n",
            "+--------+-----+\n",
            "|      22|    3|\n",
            "+--------+-----+\n",
            "\n"
          ]
        }
      ]
    },
    {
      "cell_type": "code",
      "source": [
        "#display artist name below age 30 >> output as string\n",
        "df1.filter(df1[\"age\"]<30).collect()[0][1]"
      ],
      "metadata": {
        "id": "7jEtpJmkLclc",
        "outputId": "a982e71f-e235-409e-a4b3-5455bc4e0e6e",
        "colab": {
          "base_uri": "https://localhost:8080/",
          "height": 35
        }
      },
      "execution_count": 43,
      "outputs": [
        {
          "output_type": "execute_result",
          "data": {
            "text/plain": [
              "'jill'"
            ],
            "application/vnd.google.colaboratory.intrinsic+json": {
              "type": "string"
            }
          },
          "metadata": {},
          "execution_count": 43
        }
      ]
    },
    {
      "cell_type": "code",
      "source": [
        "df1.show()"
      ],
      "metadata": {
        "id": "g0WhfHDrL52z",
        "outputId": "e0dc632c-85cb-4a5a-fdfa-e903a5ef9e71",
        "colab": {
          "base_uri": "https://localhost:8080/"
        }
      },
      "execution_count": 38,
      "outputs": [
        {
          "output_type": "stream",
          "name": "stdout",
          "text": [
            "+--------+----------+---+------+\n",
            "|artistId|artistName|age| genre|\n",
            "+--------+----------+---+------+\n",
            "|      22|      jack| 30|action|\n",
            "|      44|      john| 38|comedy|\n",
            "|      66|      jill| 18| drama|\n",
            "|      88|      hill| 44| extra|\n",
            "+--------+----------+---+------+\n",
            "\n"
          ]
        }
      ]
    },
    {
      "cell_type": "code",
      "source": [],
      "metadata": {
        "id": "7smux7QAMYoj"
      },
      "execution_count": null,
      "outputs": []
    }
  ],
  "metadata": {
    "colab": {
      "name": "Welcome To Colab",
      "toc_visible": true,
      "provenance": []
    },
    "kernelspec": {
      "display_name": "Python 3",
      "name": "python3"
    }
  },
  "nbformat": 4,
  "nbformat_minor": 0
}