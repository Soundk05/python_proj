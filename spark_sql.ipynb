{
  "nbformat": 4,
  "nbformat_minor": 0,
  "metadata": {
    "colab": {
      "provenance": []
    },
    "kernelspec": {
      "name": "python3",
      "display_name": "Python 3"
    },
    "language_info": {
      "name": "python"
    }
  },
  "cells": [
    {
      "cell_type": "markdown",
      "source": [
        "#SparkSQL\n",
        "\n",
        "Working with PySpark's built-in SQL compliant functionality to investigate flights-delay data at scale\n",
        "\n",
        "\n",
        "*   Understand the limitations of SparkSQL\n",
        "*   Experiment with createOrReplaceGlobalView\n",
        "*   Work on same executions through pyspark methods\n",
        "\n"
      ],
      "metadata": {
        "id": "u9qknWb9bfXd"
      }
    },
    {
      "cell_type": "code",
      "execution_count": null,
      "metadata": {
        "id": "XLzhcLK6bVbq"
      },
      "outputs": [],
      "source": [
        "#Download Data from source\n",
        "Data Source Repo - https://kloudbitbucket.s3.amazonaws.com/krunal_ds/departuredelays.csv"
      ]
    },
    {
      "cell_type": "code",
      "source": [
        "#Import necessary spark components\n",
        "!pip install pyspark"
      ],
      "metadata": {
        "id": "3UdCaWepbetc",
        "outputId": "a6958044-0a4f-4e91-98a9-a965e7f21663",
        "colab": {
          "base_uri": "https://localhost:8080/"
        }
      },
      "execution_count": 2,
      "outputs": [
        {
          "output_type": "stream",
          "name": "stdout",
          "text": [
            "Collecting pyspark\n",
            "  Downloading pyspark-3.5.1.tar.gz (317.0 MB)\n",
            "\u001b[2K     \u001b[90m━━━━━━━━━━━━━━━━━━━━━━━━━━━━━━━━━━━━━━━━\u001b[0m \u001b[32m317.0/317.0 MB\u001b[0m \u001b[31m4.3 MB/s\u001b[0m eta \u001b[36m0:00:00\u001b[0m\n",
            "\u001b[?25h  Preparing metadata (setup.py) ... \u001b[?25l\u001b[?25hdone\n",
            "Requirement already satisfied: py4j==0.10.9.7 in /usr/local/lib/python3.10/dist-packages (from pyspark) (0.10.9.7)\n",
            "Building wheels for collected packages: pyspark\n",
            "  Building wheel for pyspark (setup.py) ... \u001b[?25l\u001b[?25hdone\n",
            "  Created wheel for pyspark: filename=pyspark-3.5.1-py2.py3-none-any.whl size=317488491 sha256=04c35e145522c6c01fb4bd3eb72fa64a16c8fc0632c50affcba201bdb344467a\n",
            "  Stored in directory: /root/.cache/pip/wheels/80/1d/60/2c256ed38dddce2fdd93be545214a63e02fbd8d74fb0b7f3a6\n",
            "Successfully built pyspark\n",
            "Installing collected packages: pyspark\n",
            "Successfully installed pyspark-3.5.1\n"
          ]
        }
      ]
    },
    {
      "cell_type": "code",
      "source": [
        "from pyspark.sql import SparkSession\n"
      ],
      "metadata": {
        "id": "0mdiT-8oFsHD"
      },
      "execution_count": 3,
      "outputs": []
    },
    {
      "cell_type": "code",
      "source": [
        "#Create a SparkSession\n",
        "lti_spark = SparkSession.builder.appName(\"sound\").getOrCreate()\n",
        "lti_spark"
      ],
      "metadata": {
        "id": "6FP1wdXTbewW",
        "outputId": "90a3ae27-825e-4ea8-d06c-0995e80c1532",
        "colab": {
          "base_uri": "https://localhost:8080/",
          "height": 219
        }
      },
      "execution_count": 5,
      "outputs": [
        {
          "output_type": "execute_result",
          "data": {
            "text/plain": [
              "<pyspark.sql.session.SparkSession at 0x7bf4050f78b0>"
            ],
            "text/html": [
              "\n",
              "            <div>\n",
              "                <p><b>SparkSession - in-memory</b></p>\n",
              "                \n",
              "        <div>\n",
              "            <p><b>SparkContext</b></p>\n",
              "\n",
              "            <p><a href=\"http://d211d796de67:4040\">Spark UI</a></p>\n",
              "\n",
              "            <dl>\n",
              "              <dt>Version</dt>\n",
              "                <dd><code>v3.5.1</code></dd>\n",
              "              <dt>Master</dt>\n",
              "                <dd><code>local[*]</code></dd>\n",
              "              <dt>AppName</dt>\n",
              "                <dd><code>sound</code></dd>\n",
              "            </dl>\n",
              "        </div>\n",
              "        \n",
              "            </div>\n",
              "        "
            ]
          },
          "metadata": {},
          "execution_count": 5
        }
      ]
    },
    {
      "cell_type": "code",
      "source": [
        "#Import Data into Spark Native Dataframe\n",
        "df = lti_spark.read.csv(\"departuredelays.csv\",header=True,inferSchema=True)\n",
        "# df = lti_spark.read.option('Header','True').csv('path')\n",
        "df.show()"
      ],
      "metadata": {
        "id": "gXObRS7gbezU",
        "outputId": "8ffaacc9-fddd-4dea-be94-ab31ed7600b8",
        "colab": {
          "base_uri": "https://localhost:8080/"
        }
      },
      "execution_count": 8,
      "outputs": [
        {
          "output_type": "stream",
          "name": "stdout",
          "text": [
            "+-------+-----+--------+------+-----------+\n",
            "|   date|delay|distance|origin|destination|\n",
            "+-------+-----+--------+------+-----------+\n",
            "|1011245|    6|     602|   ABE|        ATL|\n",
            "|1020600|   -8|     369|   ABE|        DTW|\n",
            "|1021245|   -2|     602|   ABE|        ATL|\n",
            "|1020605|   -4|     602|   ABE|        ATL|\n",
            "|1031245|   -4|     602|   ABE|        ATL|\n",
            "|1030605|    0|     602|   ABE|        ATL|\n",
            "|1041243|   10|     602|   ABE|        ATL|\n",
            "|1040605|   28|     602|   ABE|        ATL|\n",
            "|1051245|   88|     602|   ABE|        ATL|\n",
            "|1050605|    9|     602|   ABE|        ATL|\n",
            "|1061215|   -6|     602|   ABE|        ATL|\n",
            "|1061725|   69|     602|   ABE|        ATL|\n",
            "|1061230|    0|     369|   ABE|        DTW|\n",
            "|1060625|   -3|     602|   ABE|        ATL|\n",
            "|1070600|    0|     369|   ABE|        DTW|\n",
            "|1071725|    0|     602|   ABE|        ATL|\n",
            "|1071230|    0|     369|   ABE|        DTW|\n",
            "|1070625|    0|     602|   ABE|        ATL|\n",
            "|1071219|    0|     569|   ABE|        ORD|\n",
            "|1080600|    0|     369|   ABE|        DTW|\n",
            "+-------+-----+--------+------+-----------+\n",
            "only showing top 20 rows\n",
            "\n"
          ]
        }
      ]
    },
    {
      "cell_type": "code",
      "source": [
        "#Convert into an SQL complaint format\n",
        "new = df\n",
        "new.createOrReplaceTempView(\"flys\")\n"
      ],
      "metadata": {
        "id": "DqYqJHizbe3y",
        "outputId": "0f784878-5b4d-43cd-b0fd-6255e90b13d8",
        "colab": {
          "base_uri": "https://localhost:8080/"
        }
      },
      "execution_count": 13,
      "outputs": [
        {
          "output_type": "stream",
          "name": "stdout",
          "text": [
            "DataFrame[date: int, delay: int, distance: int, origin: string, destination: string]\n"
          ]
        }
      ]
    },
    {
      "cell_type": "code",
      "source": [
        "#Display 100 rows of data with SQL query\n",
        "lti_spark.sql(\"select * from flys limit 5\").show()"
      ],
      "metadata": {
        "id": "MWu1GiPwbe6n",
        "outputId": "f975ad28-4525-43ad-81dd-de4bf6c5594e",
        "colab": {
          "base_uri": "https://localhost:8080/"
        }
      },
      "execution_count": 17,
      "outputs": [
        {
          "output_type": "stream",
          "name": "stdout",
          "text": [
            "+-------+-----+--------+------+-----------+\n",
            "|   date|delay|distance|origin|destination|\n",
            "+-------+-----+--------+------+-----------+\n",
            "|1011245|    6|     602|   ABE|        ATL|\n",
            "|1020600|   -8|     369|   ABE|        DTW|\n",
            "|1021245|   -2|     602|   ABE|        ATL|\n",
            "|1020605|   -4|     602|   ABE|        ATL|\n",
            "|1031245|   -4|     602|   ABE|        ATL|\n",
            "+-------+-----+--------+------+-----------+\n",
            "\n"
          ]
        }
      ]
    },
    {
      "cell_type": "code",
      "source": [
        "#Get a list of all Origin and Destination airports\n",
        "lti_spark.sql(\"select distinct origin,Destination from flys\").show()"
      ],
      "metadata": {
        "id": "eWGh0GpWcRsX",
        "outputId": "6ad4d4f2-dd16-4b0d-a222-6553e32aef5d",
        "colab": {
          "base_uri": "https://localhost:8080/"
        }
      },
      "execution_count": 21,
      "outputs": [
        {
          "output_type": "stream",
          "name": "stdout",
          "text": [
            "+------+-----------+\n",
            "|origin|Destination|\n",
            "+------+-----------+\n",
            "|   ATL|        GSP|\n",
            "|   BQN|        MCO|\n",
            "|   CLE|        SJU|\n",
            "|   DSM|        EWR|\n",
            "|   EWR|        STT|\n",
            "|   FSD|        ATL|\n",
            "|   LAS|        LIT|\n",
            "|   LBB|        DEN|\n",
            "|   MCI|        IAH|\n",
            "|   MCI|        MKE|\n",
            "|   MDW|        MEM|\n",
            "|   ORD|        PDX|\n",
            "|   PBI|        DCA|\n",
            "|   PHL|        MCO|\n",
            "|   ROC|        CLE|\n",
            "|   SJC|        LIH|\n",
            "|   SMF|        BUR|\n",
            "|   SNA|        PHX|\n",
            "|   HRL|        BRO|\n",
            "|   AUS|        ELP|\n",
            "+------+-----------+\n",
            "only showing top 20 rows\n",
            "\n"
          ]
        }
      ]
    },
    {
      "cell_type": "code",
      "source": [
        "#Find the top 5 longest distance travel routes\n",
        "lti_spark.sql(\"select * from flys order by distance desc limit 5\").show()"
      ],
      "metadata": {
        "id": "QKnQPgqicRvS",
        "outputId": "9a856c3f-ae51-459b-a72e-ce7c3a69b6a4",
        "colab": {
          "base_uri": "https://localhost:8080/"
        }
      },
      "execution_count": 20,
      "outputs": [
        {
          "output_type": "stream",
          "name": "stdout",
          "text": [
            "+-------+-----+--------+------+-----------+\n",
            "|   date|delay|distance|origin|destination|\n",
            "+-------+-----+--------+------+-----------+\n",
            "|3011625|   -1|    4330|   HNL|        JFK|\n",
            "|1011625|   -4|    4330|   HNL|        JFK|\n",
            "|3071625|   -1|    4330|   HNL|        JFK|\n",
            "|1051625|   18|    4330|   HNL|        JFK|\n",
            "|3021625|   14|    4330|   HNL|        JFK|\n",
            "+-------+-----+--------+------+-----------+\n",
            "\n"
          ]
        }
      ]
    },
    {
      "cell_type": "code",
      "source": [
        "df.show()"
      ],
      "metadata": {
        "id": "KglLAnSgZHyh",
        "outputId": "a26189aa-fb50-487c-8295-fc3af3040b2a",
        "colab": {
          "base_uri": "https://localhost:8080/"
        }
      },
      "execution_count": null,
      "outputs": [
        {
          "output_type": "stream",
          "name": "stdout",
          "text": [
            "+--------+-----+--------+------+-----------+\n",
            "|    date|delay|distance|origin|destination|\n",
            "+--------+-----+--------+------+-----------+\n",
            "|01011245|    6|     602|   ABE|        ATL|\n",
            "|01020600|   -8|     369|   ABE|        DTW|\n",
            "|01021245|   -2|     602|   ABE|        ATL|\n",
            "|01020605|   -4|     602|   ABE|        ATL|\n",
            "|01031245|   -4|     602|   ABE|        ATL|\n",
            "|01030605|    0|     602|   ABE|        ATL|\n",
            "|01041243|   10|     602|   ABE|        ATL|\n",
            "|01040605|   28|     602|   ABE|        ATL|\n",
            "|01051245|   88|     602|   ABE|        ATL|\n",
            "|01050605|    9|     602|   ABE|        ATL|\n",
            "|01061215|   -6|     602|   ABE|        ATL|\n",
            "|01061725|   69|     602|   ABE|        ATL|\n",
            "|01061230|    0|     369|   ABE|        DTW|\n",
            "|01060625|   -3|     602|   ABE|        ATL|\n",
            "|01070600|    0|     369|   ABE|        DTW|\n",
            "|01071725|    0|     602|   ABE|        ATL|\n",
            "|01071230|    0|     369|   ABE|        DTW|\n",
            "|01070625|    0|     602|   ABE|        ATL|\n",
            "|01071219|    0|     569|   ABE|        ORD|\n",
            "|01080600|    0|     369|   ABE|        DTW|\n",
            "+--------+-----+--------+------+-----------+\n",
            "only showing top 20 rows\n",
            "\n"
          ]
        }
      ]
    },
    {
      "cell_type": "code",
      "source": [
        "#Find top 3 origin airport with maximum flight delay occurances\n",
        "lti_spark.sql(\"select origin,count(*)  from flys group by origin order by count(*) desc limit 3\").show()"
      ],
      "metadata": {
        "id": "-UNJNctPcRx2",
        "outputId": "25a6e1e9-16d1-43e4-e127-363c51fc0434",
        "colab": {
          "base_uri": "https://localhost:8080/"
        }
      },
      "execution_count": 22,
      "outputs": [
        {
          "output_type": "stream",
          "name": "stdout",
          "text": [
            "+------+--------+\n",
            "|origin|count(1)|\n",
            "+------+--------+\n",
            "|   ATL|   91484|\n",
            "|   DFW|   68482|\n",
            "|   ORD|   64228|\n",
            "+------+--------+\n",
            "\n"
          ]
        }
      ]
    },
    {
      "cell_type": "code",
      "source": [
        "#Find top 3 destination airport with maximum flight delay occurances\n",
        "lti_spark.sql(\"select Destination,count(*) from flys group by Destination order by count(*) desc limit 3\").show()"
      ],
      "metadata": {
        "id": "0YeWikvEcR0h",
        "outputId": "015dba9f-55f7-4eda-97cc-637a6b4f2cfd",
        "colab": {
          "base_uri": "https://localhost:8080/"
        }
      },
      "execution_count": 24,
      "outputs": [
        {
          "output_type": "stream",
          "name": "stdout",
          "text": [
            "+-----------+--------+\n",
            "|Destination|count(1)|\n",
            "+-----------+--------+\n",
            "|        ATL|   90434|\n",
            "|        DFW|   66050|\n",
            "|        ORD|   61967|\n",
            "+-----------+--------+\n",
            "\n"
          ]
        }
      ]
    },
    {
      "cell_type": "code",
      "source": [
        "#Find the route with maximum delay occurances\n",
        "lti_spark.sql(\"select origin, Destination, count(*) from flys group by origin,Destination order by count(*) desc limit 1\").show()\n",
        "#lti"
      ],
      "metadata": {
        "id": "dUJBKTwLcR34",
        "outputId": "2bc4dde9-735e-44da-b1b7-efeab1a4442e",
        "colab": {
          "base_uri": "https://localhost:8080/"
        }
      },
      "execution_count": 27,
      "outputs": [
        {
          "output_type": "stream",
          "name": "stdout",
          "text": [
            "+------+-----------+--------+\n",
            "|origin|Destination|count(1)|\n",
            "+------+-----------+--------+\n",
            "|   SFO|        LAX|    3232|\n",
            "+------+-----------+--------+\n",
            "\n"
          ]
        }
      ]
    },
    {
      "cell_type": "code",
      "source": [
        "#Find the top three routes with maximum time-delay\n",
        "lti_spark.sql(\"select * from flys order by delay desc limit 3\").show()"
      ],
      "metadata": {
        "id": "0OX5pSTqcR5s",
        "outputId": "7539862a-af4c-4f28-ed91-846cae74e35e",
        "colab": {
          "base_uri": "https://localhost:8080/"
        }
      },
      "execution_count": 30,
      "outputs": [
        {
          "output_type": "stream",
          "name": "stdout",
          "text": [
            "+-------+-----+--------+------+-----------+\n",
            "|   date|delay|distance|origin|destination|\n",
            "+-------+-----+--------+------+-----------+\n",
            "|3090615| 1642|     807|   TPA|        DFW|\n",
            "|2190925| 1638|    1604|   SFO|        ORD|\n",
            "|2021245| 1636|     972|   FLL|        DFW|\n",
            "+-------+-----+--------+------+-----------+\n",
            "\n"
          ]
        }
      ]
    },
    {
      "cell_type": "code",
      "source": [
        "#Find the distance for top three max time-delay routes\n",
        "lti_spark.sql(\"select * from flys where delay >0 order by delay desc limit 3\").show()"
      ],
      "metadata": {
        "id": "oHf6MWCxcSAy",
        "outputId": "5785048d-cda0-416d-8336-0b0798bed21a",
        "colab": {
          "base_uri": "https://localhost:8080/"
        }
      },
      "execution_count": 29,
      "outputs": [
        {
          "output_type": "stream",
          "name": "stdout",
          "text": [
            "+-------+-----+--------+------+-----------+\n",
            "|   date|delay|distance|origin|destination|\n",
            "+-------+-----+--------+------+-----------+\n",
            "|3090615| 1642|     807|   TPA|        DFW|\n",
            "|2190925| 1638|    1604|   SFO|        ORD|\n",
            "|2021245| 1636|     972|   FLL|        DFW|\n",
            "+-------+-----+--------+------+-----------+\n",
            "\n"
          ]
        }
      ]
    },
    {
      "cell_type": "code",
      "source": [],
      "metadata": {
        "id": "PQgPJ7GJksqM"
      },
      "execution_count": null,
      "outputs": []
    }
  ]
}