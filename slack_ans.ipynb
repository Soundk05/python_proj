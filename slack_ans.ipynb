{
  "cells": [
    {
      "cell_type": "code",
      "source": [
        "!pip install pyspark"
      ],
      "metadata": {
        "colab": {
          "base_uri": "https://localhost:8080/"
        },
        "id": "Dtskkj3IOSI4",
        "outputId": "917b915e-86fd-4615-d92a-a33939ea78ba"
      },
      "execution_count": 1,
      "outputs": [
        {
          "output_type": "stream",
          "name": "stdout",
          "text": [
            "Collecting pyspark\n",
            "  Downloading pyspark-3.5.1.tar.gz (317.0 MB)\n",
            "\u001b[2K     \u001b[90m━━━━━━━━━━━━━━━━━━━━━━━━━━━━━━━━━━━━━━━━\u001b[0m \u001b[32m317.0/317.0 MB\u001b[0m \u001b[31m2.7 MB/s\u001b[0m eta \u001b[36m0:00:00\u001b[0m\n",
            "\u001b[?25h  Preparing metadata (setup.py) ... \u001b[?25l\u001b[?25hdone\n",
            "Requirement already satisfied: py4j==0.10.9.7 in /usr/local/lib/python3.10/dist-packages (from pyspark) (0.10.9.7)\n",
            "Building wheels for collected packages: pyspark\n",
            "  Building wheel for pyspark (setup.py) ... \u001b[?25l\u001b[?25hdone\n",
            "  Created wheel for pyspark: filename=pyspark-3.5.1-py2.py3-none-any.whl size=317488490 sha256=5b8a55efd1c8577b3eb834fcba69ce7dacd1f18762bca75a8ae6d3f24e2e50f0\n",
            "  Stored in directory: /root/.cache/pip/wheels/80/1d/60/2c256ed38dddce2fdd93be545214a63e02fbd8d74fb0b7f3a6\n",
            "Successfully built pyspark\n",
            "Installing collected packages: pyspark\n",
            "Successfully installed pyspark-3.5.1\n"
          ]
        }
      ]
    },
    {
      "cell_type": "code",
      "source": [
        "from pyspark.sql import SparkSession\n",
        "from pyspark.sql.functions import *"
      ],
      "metadata": {
        "id": "-ltsmnn9OU2h"
      },
      "execution_count": 3,
      "outputs": []
    },
    {
      "cell_type": "code",
      "source": [
        "lti_spark=SparkSession.builder.appName(\"LTI\").getOrCreate()"
      ],
      "metadata": {
        "id": "1Qu4Nek6Onyb"
      },
      "execution_count": 4,
      "outputs": []
    },
    {
      "cell_type": "code",
      "source": [
        "%%writefile movies.csv\n",
        "\n",
        "movieId,movieName,year\n",
        "1,Parmanu,2018\n",
        "2,URI,2019\n",
        "3,rrr,2022\n",
        "4,Bahubali,2015\n",
        "5,tanhaji,2020"
      ],
      "metadata": {
        "colab": {
          "base_uri": "https://localhost:8080/"
        },
        "id": "xaOmiHaLO0r8",
        "outputId": "4aee38b9-f27a-47d9-a341-7959c0caaca8"
      },
      "execution_count": 5,
      "outputs": [
        {
          "output_type": "stream",
          "name": "stdout",
          "text": [
            "Writing movies.csv\n"
          ]
        }
      ]
    },
    {
      "cell_type": "code",
      "source": [
        "%%writefile review.csv\n",
        "movieId,movieInfo,reviews\n",
        "1,,435\n",
        "2,,492\n",
        "3,,444\n",
        "4,,880\n",
        "5,,722\n",
        "6,,888\n",
        "7,,220\n",
        "8,,350\n",
        "9,,619\n",
        "10,,226"
      ],
      "metadata": {
        "colab": {
          "base_uri": "https://localhost:8080/"
        },
        "id": "w4IcWX8FO851",
        "outputId": "4be44c05-6dbd-4654-cda9-4ea3590d944b"
      },
      "execution_count": 6,
      "outputs": [
        {
          "output_type": "stream",
          "name": "stdout",
          "text": [
            "Writing review.csv\n"
          ]
        }
      ]
    },
    {
      "cell_type": "code",
      "source": [
        "rdf=lti_spark.read.csv(\"/content/review.csv\",header=True)\n",
        "mdf=lti_spark.read.csv(\"/content/movies.csv\",header=True)"
      ],
      "metadata": {
        "id": "zrfyrd2FPC3D"
      },
      "execution_count": 8,
      "outputs": []
    },
    {
      "cell_type": "markdown",
      "source": [
        " Clean reviews dataframe on the basis of movies data available. Hint - try left semi join, inner join, right join for joins\n",
        "2.  Fill movieInfo Column by concating movieName & year column (output should be dataframe).  Hint - try expr method\n",
        "3. Find movie with max reviews (output should be string)\n",
        "4. Find total reviews (output should be int)"
      ],
      "metadata": {
        "id": "xJLVvXJePpov"
      }
    },
    {
      "cell_type": "markdown",
      "source": [],
      "metadata": {
        "id": "-MEHk-i3fafG"
      }
    },
    {
      "cell_type": "markdown",
      "source": [],
      "metadata": {
        "id": "eVu2AuRQPrAg"
      }
    },
    {
      "cell_type": "code",
      "source": [
        "rdf.printSchema()"
      ],
      "metadata": {
        "colab": {
          "base_uri": "https://localhost:8080/"
        },
        "id": "LjV8-9VEPU-W",
        "outputId": "c62538dd-b64a-4bf7-b7c9-17bb9d24fd96"
      },
      "execution_count": 9,
      "outputs": [
        {
          "output_type": "stream",
          "name": "stdout",
          "text": [
            "root\n",
            " |-- movieId: string (nullable = true)\n",
            " |-- movieInfo: string (nullable = true)\n",
            " |-- reviews: string (nullable = true)\n",
            "\n"
          ]
        }
      ]
    },
    {
      "cell_type": "code",
      "source": [
        "rdf.show()"
      ],
      "metadata": {
        "colab": {
          "base_uri": "https://localhost:8080/"
        },
        "id": "fstpwDH-QmCN",
        "outputId": "80b808d8-7281-4c83-eb5c-6f3612bbe94a"
      },
      "execution_count": 10,
      "outputs": [
        {
          "output_type": "stream",
          "name": "stdout",
          "text": [
            "+-------+---------+-------+\n",
            "|movieId|movieInfo|reviews|\n",
            "+-------+---------+-------+\n",
            "|      1|     NULL|    435|\n",
            "|      2|     NULL|    492|\n",
            "|      3|     NULL|    444|\n",
            "|      4|     NULL|    880|\n",
            "|      5|     NULL|    722|\n",
            "|      6|     NULL|    888|\n",
            "|      7|     NULL|    220|\n",
            "|      8|     NULL|    350|\n",
            "|      9|     NULL|    619|\n",
            "|     10|     NULL|    226|\n",
            "+-------+---------+-------+\n",
            "\n"
          ]
        }
      ]
    },
    {
      "cell_type": "code",
      "source": [
        "rdf1=rdf.na.fill(subset=[\"movieInfo\"])\n",
        "rdf1.show()"
      ],
      "metadata": {
        "colab": {
          "base_uri": "https://localhost:8080/"
        },
        "id": "R9pCk7j8Qohj",
        "outputId": "622b225c-8deb-4926-8fb8-2f7e98eb3218"
      },
      "execution_count": 11,
      "outputs": [
        {
          "output_type": "stream",
          "name": "stdout",
          "text": [
            "+-------+---------+-------+\n",
            "|movieId|movieInfo|reviews|\n",
            "+-------+---------+-------+\n",
            "+-------+---------+-------+\n",
            "\n"
          ]
        }
      ]
    },
    {
      "cell_type": "code",
      "source": [
        "#Clean reviews dataframe on the basis of movies data available. Hint - try left semi join, inner join, right join for joins\n",
        "rdf.join(mdf,rdf.movieId==mdf.movieId,\"leftsemi\").show()"
      ],
      "metadata": {
        "colab": {
          "base_uri": "https://localhost:8080/"
        },
        "id": "wBKBYUvVRBOX",
        "outputId": "4308ea69-3c66-49f1-d1ad-f743cb9270db"
      },
      "execution_count": 13,
      "outputs": [
        {
          "output_type": "stream",
          "name": "stdout",
          "text": [
            "+-------+---------+-------+\n",
            "|movieId|movieInfo|reviews|\n",
            "+-------+---------+-------+\n",
            "|      1|     NULL|    435|\n",
            "|      2|     NULL|    492|\n",
            "|      3|     NULL|    444|\n",
            "|      4|     NULL|    880|\n",
            "|      5|     NULL|    722|\n",
            "+-------+---------+-------+\n",
            "\n"
          ]
        }
      ]
    },
    {
      "cell_type": "code",
      "source": [
        "jdf=rdf.join(mdf,\"movieId\",\"right\")\n",
        "jdf.show()"
      ],
      "metadata": {
        "colab": {
          "base_uri": "https://localhost:8080/"
        },
        "id": "KmHKRVlQTQfb",
        "outputId": "c43a60c1-0cba-415d-a893-970d551910f1"
      },
      "execution_count": 18,
      "outputs": [
        {
          "output_type": "stream",
          "name": "stdout",
          "text": [
            "+-------+---------+-------+---------+----+\n",
            "|movieId|movieInfo|reviews|movieName|year|\n",
            "+-------+---------+-------+---------+----+\n",
            "|      1|     NULL|    435|  Parmanu|2018|\n",
            "|      2|     NULL|    492|      URI|2019|\n",
            "|      3|     NULL|    444|      rrr|2022|\n",
            "|      4|     NULL|    880| Bahubali|2015|\n",
            "|      5|     NULL|    722|  tanhaji|2020|\n",
            "+-------+---------+-------+---------+----+\n",
            "\n"
          ]
        }
      ]
    },
    {
      "cell_type": "code",
      "source": [
        "jdf=jdf.withColumn(\"movieInfo\",concat_ws(\"-\",\"movieName\",\"year\"))\n",
        "jdf.show()"
      ],
      "metadata": {
        "colab": {
          "base_uri": "https://localhost:8080/"
        },
        "id": "lI-A-HyjTc4P",
        "outputId": "64abe152-c8c4-4968-e641-b1840124cbe4"
      },
      "execution_count": 20,
      "outputs": [
        {
          "output_type": "stream",
          "name": "stdout",
          "text": [
            "+-------+-------------+-------+---------+----+\n",
            "|movieId|    movieInfo|reviews|movieName|year|\n",
            "+-------+-------------+-------+---------+----+\n",
            "|      1| Parmanu-2018|    435|  Parmanu|2018|\n",
            "|      2|     URI-2019|    492|      URI|2019|\n",
            "|      3|     rrr-2022|    444|      rrr|2022|\n",
            "|      4|Bahubali-2015|    880| Bahubali|2015|\n",
            "|      5| tanhaji-2020|    722|  tanhaji|2020|\n",
            "+-------+-------------+-------+---------+----+\n",
            "\n"
          ]
        }
      ]
    },
    {
      "cell_type": "code",
      "source": [
        "jdf2 = rdf.join(mdf,\"movieId\",\"right\")\n",
        "jdf2.show()"
      ],
      "metadata": {
        "colab": {
          "base_uri": "https://localhost:8080/"
        },
        "id": "Fa4oEwuwVr8f",
        "outputId": "9343c3e8-fb8e-44bc-9c2f-6f644504a27b"
      },
      "execution_count": 24,
      "outputs": [
        {
          "output_type": "stream",
          "name": "stdout",
          "text": [
            "+-------+---------+-------+---------+----+\n",
            "|movieId|movieInfo|reviews|movieName|year|\n",
            "+-------+---------+-------+---------+----+\n",
            "|      1|     NULL|    435|  Parmanu|2018|\n",
            "|      2|     NULL|    492|      URI|2019|\n",
            "|      3|     NULL|    444|      rrr|2022|\n",
            "|      4|     NULL|    880| Bahubali|2015|\n",
            "|      5|     NULL|    722|  tanhaji|2020|\n",
            "+-------+---------+-------+---------+----+\n",
            "\n"
          ]
        }
      ]
    },
    {
      "cell_type": "code",
      "source": [
        "jdf2.withColumn(\"movieInfo\",expr(\"movieName||'-'||year\")).show()"
      ],
      "metadata": {
        "colab": {
          "base_uri": "https://localhost:8080/"
        },
        "id": "HDdxnuMrWGga",
        "outputId": "dcb49109-51bc-48f0-88ff-7bb9fe730304"
      },
      "execution_count": 34,
      "outputs": [
        {
          "output_type": "stream",
          "name": "stdout",
          "text": [
            "+-------+-------------+-------+---------+----+\n",
            "|movieId|    movieInfo|reviews|movieName|year|\n",
            "+-------+-------------+-------+---------+----+\n",
            "|      1| Parmanu-2018|    435|  Parmanu|2018|\n",
            "|      2|     URI-2019|    492|      URI|2019|\n",
            "|      3|     rrr-2022|    444|      rrr|2022|\n",
            "|      4|Bahubali-2015|    880| Bahubali|2015|\n",
            "|      5| tanhaji-2020|    722|  tanhaji|2020|\n",
            "+-------+-------------+-------+---------+----+\n",
            "\n"
          ]
        }
      ]
    },
    {
      "cell_type": "code",
      "source": [
        "# c=jdf2.select(max(\"reviews\")).collect()[0][0]\n",
        "# print(c)\n",
        "jdf2.groupby(\"movieName\").agg(max(\"reviews\")).first()[0]"
      ],
      "metadata": {
        "colab": {
          "base_uri": "https://localhost:8080/",
          "height": 35
        },
        "id": "_RGMMDdeX2qL",
        "outputId": "12c420d2-852b-4bd0-c664-142daf6cf6a3"
      },
      "execution_count": 57,
      "outputs": [
        {
          "output_type": "execute_result",
          "data": {
            "text/plain": [
              "'Bahubali'"
            ],
            "application/vnd.google.colaboratory.intrinsic+json": {
              "type": "string"
            }
          },
          "metadata": {},
          "execution_count": 57
        }
      ]
    },
    {
      "cell_type": "code",
      "source": [
        "#Find total reviews (output should be int)\n",
        "jdf2.select(count(\"reviews\")).collect()[0][0]"
      ],
      "metadata": {
        "colab": {
          "base_uri": "https://localhost:8080/"
        },
        "id": "ZB46g1eHZY6V",
        "outputId": "3314a634-275a-44b4-cc04-6d61513cf911"
      },
      "execution_count": 49,
      "outputs": [
        {
          "output_type": "execute_result",
          "data": {
            "text/plain": [
              "5"
            ]
          },
          "metadata": {},
          "execution_count": 49
        }
      ]
    },
    {
      "cell_type": "code",
      "source": [
        "%%writefile movie1.csv\n",
        "movieId,movieName,year,fansReview,criticsReview\n",
        "1,Parmanu,2018,200,100\n",
        "2,URI,2019,300,200\n",
        "3,rrr,2022,300,200\n",
        "4,Bahubali,2015,500,400\n",
        "5,tanhaji,2020,600,500"
      ],
      "metadata": {
        "colab": {
          "base_uri": "https://localhost:8080/"
        },
        "id": "QqrGCcRtfDqL",
        "outputId": "8c2ada7e-e55a-4494-a810-cb5afcf802a3"
      },
      "execution_count": 58,
      "outputs": [
        {
          "output_type": "stream",
          "name": "stdout",
          "text": [
            "Writing movie1.csv\n"
          ]
        }
      ]
    },
    {
      "cell_type": "code",
      "source": [
        "%%writefile genre.csv\n",
        "movieId,genre\n",
        "1,tech\n",
        "2,history\n",
        "2,action\n",
        "4,action\n",
        "3,action\n",
        "1,science\n",
        "4,fiction\n",
        "5,history\n",
        "5,action\n",
        "4,mass"
      ],
      "metadata": {
        "id": "clyA0PSvsD2e",
        "outputId": "f1ebe1c3-4b6f-41d8-c96d-af678df7c717",
        "colab": {
          "base_uri": "https://localhost:8080/"
        }
      },
      "execution_count": 59,
      "outputs": [
        {
          "output_type": "stream",
          "name": "stdout",
          "text": [
            "Writing genre.csv\n"
          ]
        }
      ]
    },
    {
      "cell_type": "code",
      "source": [
        "df=lti_spark.read.csv(\"/content/movie1.csv\",header=True)\n",
        "gdf=lti_spark.read.csv(\"/content/genre.csv\",header=True)"
      ],
      "metadata": {
        "id": "n7ZGhbyvsZQq"
      },
      "execution_count": 60,
      "outputs": []
    },
    {
      "cell_type": "code",
      "source": [
        "#Find top movies by fansReview to criticsReview ratio. Hint - Add a column for same\n",
        "df=df.withColumn(\"ratio\",col(\"fansReview\")/col(\"criticsReview\"))\n",
        "df.sort(\"ratio\",ascending=False).collect()[0][1]"
      ],
      "metadata": {
        "id": "xpHXBx_0sj5v",
        "outputId": "2eaf90f3-e6a6-4d4d-8410-469a70572a59",
        "colab": {
          "base_uri": "https://localhost:8080/",
          "height": 35
        }
      },
      "execution_count": 67,
      "outputs": [
        {
          "output_type": "execute_result",
          "data": {
            "text/plain": [
              "'Parmanu'"
            ],
            "application/vnd.google.colaboratory.intrinsic+json": {
              "type": "string"
            }
          },
          "metadata": {},
          "execution_count": 67
        }
      ]
    },
    {
      "cell_type": "code",
      "source": [
        "#Order moviesDF by year to get latest movie\n",
        "df.sort(\"year\",ascending=False).show(1)"
      ],
      "metadata": {
        "id": "DOzoPBVKsvAW",
        "outputId": "f0941439-1986-4b1a-8880-439fe2d956f7",
        "colab": {
          "base_uri": "https://localhost:8080/"
        }
      },
      "execution_count": 68,
      "outputs": [
        {
          "output_type": "stream",
          "name": "stdout",
          "text": [
            "+-------+---------+----+----------+-------------+-----+\n",
            "|movieId|movieName|year|fansReview|criticsReview|ratio|\n",
            "+-------+---------+----+----------+-------------+-----+\n",
            "|      3|      rrr|2022|       300|          200|  1.5|\n",
            "+-------+---------+----+----------+-------------+-----+\n",
            "only showing top 1 row\n",
            "\n"
          ]
        }
      ]
    },
    {
      "cell_type": "code",
      "source": [
        "#Join dataframes on movieID & find most popular genre\n",
        "df.join(gdf,\"movieId\").groupby(\"genre\").count().first()[0]"
      ],
      "metadata": {
        "id": "kzP9ryPCsrkm",
        "outputId": "cbb0bf73-394c-4d86-c696-9fc5f9aeef55",
        "colab": {
          "base_uri": "https://localhost:8080/",
          "height": 35
        }
      },
      "execution_count": 75,
      "outputs": [
        {
          "output_type": "execute_result",
          "data": {
            "text/plain": [
              "'action'"
            ],
            "application/vnd.google.colaboratory.intrinsic+json": {
              "type": "string"
            }
          },
          "metadata": {},
          "execution_count": 75
        }
      ]
    },
    {
      "cell_type": "code",
      "source": [],
      "metadata": {
        "id": "2-GXBITWusJM"
      },
      "execution_count": null,
      "outputs": []
    }
  ],
  "metadata": {
    "colab": {
      "name": "Welcome To Colab",
      "provenance": []
    },
    "kernelspec": {
      "display_name": "Python 3",
      "name": "python3"
    }
  },
  "nbformat": 4,
  "nbformat_minor": 0
}