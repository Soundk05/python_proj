{
  "nbformat": 4,
  "nbformat_minor": 0,
  "metadata": {
    "colab": {
      "provenance": []
    },
    "kernelspec": {
      "name": "python3",
      "display_name": "Python 3"
    },
    "language_info": {
      "name": "python"
    }
  },
  "cells": [
    {
      "cell_type": "code",
      "execution_count": null,
      "metadata": {
        "id": "vpo5Vr0QiMUE"
      },
      "outputs": [],
      "source": [
        "#Create local file with the following data\n",
        "\n",
        "Complete the following code using pyspark RDDs\n",
        "\n",
        "movie.csv\n",
        "movieId,moviename,director,year\n",
        "200,shawshank,FrankD,1994\n",
        "201,saw,JamesW,2004\n",
        "202,avengers,JossW,2012\n",
        "204,mi,ChristopherMcq,2018\n",
        "205,wrongturn,DeclanO,2011\n",
        "\n",
        "award.csv\n",
        "catalogId,movieId,awards\n",
        "11,200,2\n",
        "12,200,3\n",
        "13,201,1\n",
        "14,202,3\n",
        "15,202,5\n",
        "16,204,4\n",
        "17,205,1"
      ]
    },
    {
      "cell_type": "code",
      "source": [
        "#Import libraries & Create SparkSession\n",
        "!pip install pyspark"
      ],
      "metadata": {
        "id": "deuJPwWWiUqv",
        "outputId": "cd0864b6-9828-4830-f9fa-57a231ff219c",
        "colab": {
          "base_uri": "https://localhost:8080/"
        }
      },
      "execution_count": 1,
      "outputs": [
        {
          "output_type": "stream",
          "name": "stdout",
          "text": [
            "Collecting pyspark\n",
            "  Downloading pyspark-3.5.1.tar.gz (317.0 MB)\n",
            "\u001b[2K     \u001b[90m━━━━━━━━━━━━━━━━━━━━━━━━━━━━━━━━━━━━━━━━\u001b[0m \u001b[32m317.0/317.0 MB\u001b[0m \u001b[31m2.0 MB/s\u001b[0m eta \u001b[36m0:00:00\u001b[0m\n",
            "\u001b[?25h  Preparing metadata (setup.py) ... \u001b[?25l\u001b[?25hdone\n",
            "Requirement already satisfied: py4j==0.10.9.7 in /usr/local/lib/python3.10/dist-packages (from pyspark) (0.10.9.7)\n",
            "Building wheels for collected packages: pyspark\n",
            "  Building wheel for pyspark (setup.py) ... \u001b[?25l\u001b[?25hdone\n",
            "  Created wheel for pyspark: filename=pyspark-3.5.1-py2.py3-none-any.whl size=317488490 sha256=2a2e1b2bf34f245f6c4d251b05eb0747da25e2f6070f4ecac7785e6b50604ca9\n",
            "  Stored in directory: /root/.cache/pip/wheels/80/1d/60/2c256ed38dddce2fdd93be545214a63e02fbd8d74fb0b7f3a6\n",
            "Successfully built pyspark\n",
            "Installing collected packages: pyspark\n",
            "Successfully installed pyspark-3.5.1\n"
          ]
        }
      ]
    },
    {
      "cell_type": "code",
      "source": [
        "from pyspark.sql import SparkSession\n",
        "from pyspark.sql.functions import *\n",
        "lti_spark=SparkSession.builder.appName(\"sound\").getOrCreate()"
      ],
      "metadata": {
        "id": "6uUPe2BDq147"
      },
      "execution_count": 10,
      "outputs": []
    },
    {
      "cell_type": "code",
      "source": [
        "#Create two dataframes using respective csv files from local storage\n",
        "%%writefile movie.csv\n",
        "movieId,moviename,director,year\n",
        "200,shawshank,FrankD,1994\n",
        "201,saw,JamesW,2004\n",
        "202,avengers,JossW,2012\n",
        "204,mi,ChristopherMcq,2018\n",
        "205,wrongturn,DeclanO,2011"
      ],
      "metadata": {
        "id": "xgXdfz2HiUta",
        "outputId": "51954985-72e0-4d68-c730-93d1cfd57d0c",
        "colab": {
          "base_uri": "https://localhost:8080/"
        }
      },
      "execution_count": 6,
      "outputs": [
        {
          "output_type": "stream",
          "name": "stdout",
          "text": [
            "Writing movie.csv\n"
          ]
        }
      ]
    },
    {
      "cell_type": "code",
      "source": [
        "%%writefile awards.csv\n",
        "catalogId,movieId,awards\n",
        "11,200,2\n",
        "12,200,3\n",
        "13,201,1\n",
        "14,202,3\n",
        "15,202,5\n",
        "16,204,4\n",
        "17,205,1"
      ],
      "metadata": {
        "id": "TKoSfQeEsHvD",
        "outputId": "0e0a3e9e-1c5d-481c-dc1b-e38d2a5179e2",
        "colab": {
          "base_uri": "https://localhost:8080/"
        }
      },
      "execution_count": 7,
      "outputs": [
        {
          "output_type": "stream",
          "name": "stdout",
          "text": [
            "Writing awards.csv\n"
          ]
        }
      ]
    },
    {
      "cell_type": "code",
      "source": [
        "m_df=lti_spark.read.csv(\"/content/movie.csv\",header=True)\n",
        "a_df=lti_spark.read.csv(\"/content/awards.csv\",header=True)"
      ],
      "metadata": {
        "id": "fieGFnm0sm2L"
      },
      "execution_count": 8,
      "outputs": []
    },
    {
      "cell_type": "code",
      "source": [
        "#Create a new column called \"movieInfo\" in movies dataframe which includes movieName & Director\n",
        "m_df.withColumn(\"movieInfo\",concat_ws(\" \",\"moviename\",\"director\")).show()"
      ],
      "metadata": {
        "id": "tvQmmuuSiUwI",
        "outputId": "ff86413e-0c50-415e-b10e-6be1c6f7bc03",
        "colab": {
          "base_uri": "https://localhost:8080/"
        }
      },
      "execution_count": 11,
      "outputs": [
        {
          "output_type": "stream",
          "name": "stdout",
          "text": [
            "+-------+---------+--------------+----+-----------------+\n",
            "|movieId|moviename|      director|year|        movieInfo|\n",
            "+-------+---------+--------------+----+-----------------+\n",
            "|    200|shawshank|        FrankD|1994| shawshank FrankD|\n",
            "|    201|      saw|        JamesW|2004|       saw JamesW|\n",
            "|    202| avengers|         JossW|2012|   avengers JossW|\n",
            "|    204|       mi|ChristopherMcq|2018|mi ChristopherMcq|\n",
            "|    205|wrongturn|       DeclanO|2011|wrongturn DeclanO|\n",
            "+-------+---------+--------------+----+-----------------+\n",
            "\n"
          ]
        }
      ]
    },
    {
      "cell_type": "code",
      "source": [
        "#Calculate total number of awards for each movie & display - movieID, movienName, awardsCount\n",
        "a=m_df.join(a_df,\"movieId\").groupby(\"moviename\",\"movieId\").agg(sum(\"awards\").alias(\"awardcount\"))\n",
        "a.show()"
      ],
      "metadata": {
        "id": "7gl8AFTDiUzB",
        "outputId": "7b48d1ae-bb4c-41a7-a29d-7e90ff46b1e8",
        "colab": {
          "base_uri": "https://localhost:8080/"
        }
      },
      "execution_count": 19,
      "outputs": [
        {
          "output_type": "stream",
          "name": "stdout",
          "text": [
            "+---------+-------+----------+\n",
            "|moviename|movieId|awardcount|\n",
            "+---------+-------+----------+\n",
            "|wrongturn|    205|       1.0|\n",
            "|shawshank|    200|       5.0|\n",
            "|       mi|    204|       4.0|\n",
            "|      saw|    201|       1.0|\n",
            "| avengers|    202|       8.0|\n",
            "+---------+-------+----------+\n",
            "\n"
          ]
        }
      ]
    },
    {
      "cell_type": "code",
      "source": [
        "#Get top three movies on the basis of number of awards\n",
        "a.sort(\"awardcount\",ascending=False).show(3)"
      ],
      "metadata": {
        "id": "sPlzRfJtiU1W",
        "outputId": "ea525fb5-2014-4ae5-88a8-6923f5cc1dc4",
        "colab": {
          "base_uri": "https://localhost:8080/"
        }
      },
      "execution_count": 22,
      "outputs": [
        {
          "output_type": "stream",
          "name": "stdout",
          "text": [
            "+---------+-------+----------+\n",
            "|moviename|movieId|awardcount|\n",
            "+---------+-------+----------+\n",
            "| avengers|    202|       8.0|\n",
            "|shawshank|    200|       5.0|\n",
            "|       mi|    204|       4.0|\n",
            "+---------+-------+----------+\n",
            "only showing top 3 rows\n",
            "\n"
          ]
        }
      ]
    },
    {
      "cell_type": "code",
      "source": [
        "#Get top three latest movies\n",
        "m_df.sort(col(\"year\"),ascending=False).show(3)"
      ],
      "metadata": {
        "id": "cLlpSGfqiU3n",
        "outputId": "08f7c47e-fdc1-4868-a7df-0750b6b30183",
        "colab": {
          "base_uri": "https://localhost:8080/"
        }
      },
      "execution_count": 27,
      "outputs": [
        {
          "output_type": "stream",
          "name": "stdout",
          "text": [
            "+-------+---------+--------------+----+\n",
            "|movieId|moviename|      director|year|\n",
            "+-------+---------+--------------+----+\n",
            "|    204|       mi|ChristopherMcq|2018|\n",
            "|    202| avengers|         JossW|2012|\n",
            "|    205|wrongturn|       DeclanO|2011|\n",
            "+-------+---------+--------------+----+\n",
            "only showing top 3 rows\n",
            "\n"
          ]
        }
      ]
    },
    {
      "cell_type": "code",
      "source": [],
      "metadata": {
        "id": "03Yu2Lon6w4e"
      },
      "execution_count": null,
      "outputs": []
    }
  ]
}