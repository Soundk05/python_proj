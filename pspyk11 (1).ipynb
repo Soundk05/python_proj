{
  "nbformat": 4,
  "nbformat_minor": 0,
  "metadata": {
    "colab": {
      "provenance": []
    },
    "kernelspec": {
      "name": "python3",
      "display_name": "Python 3"
    },
    "language_info": {
      "name": "python"
    }
  },
  "cells": [
    {
      "cell_type": "code",
      "execution_count": 63,
      "metadata": {
        "id": "4C6Ry_IjTHnd",
        "outputId": "f4a39873-8c8d-42c2-8af2-00f9cdb115ad",
        "colab": {
          "base_uri": "https://localhost:8080/"
        }
      },
      "outputs": [
        {
          "output_type": "stream",
          "name": "stdout",
          "text": [
            "Overwriting flight.csv\n"
          ]
        }
      ],
      "source": [
        "#Varibales for Code\n",
        "%%writefile flight.csv\n",
        "\n",
        "\"AMD\",\"COK\",\"2024-02-24 08:00:00\",\"2024-02-24 10:30:00\",\"2024-02-24 08:50:00\",\"2024-02-24 11:25:00\",\"Akasa Air\", \"airTraffic\"\n",
        "\"COK\",\"SXR\",\"2024-02-25 12:00:00\",\"2024-02-25 18:30:00\",\"2024-02-25 12:15:00\",\"2024-02-25 19:15:00\",\"Vistara\", \"mechanical\"\n",
        "\"COK\",\"AMD\",\"2024-03-24 08:00:00\",\"2024-03-24 10:40:00\",\"2024-03-24 08:17:00\",\"2024-03-24 11:00:00\",\"Akasa Air\", \"storm\"\n",
        "\"SXR\",\"AMD\",\"2024-04-28 05:30:00\",\"2024-04-28 07:35:00\",\"2024-04-28 05:50:00\",\"2024-04-28 07:55:00\",\"Vistara\", \"visibility\"\n",
        "\"AMD\",\"SXR\",\"2024-07-25 07:00:00\",\"2024-07-25 09:10:00\",\"2024-07-25 07:10:00\",\"2024-07-25 09:20:00\",\"Akasa Air\", \"airTraffic\"\n",
        "\"AMD\",\"CCU\",\"2024-03-28 18:00:00\",\"2024-03-28 20:25:00\",\"2024-03-28 19:00:00\",\"2024-03-28 21:15:00\", \"Vistara\", \"storm\"\n",
        "\"SXR\",\"COK\",\"2024-06-28 23:00:00\",\"2024-06-29 04:40:00\",\"2024-06-28 23:40:00\",\"2024-06-29 05:20:00\", \"Vistara\", \"airTraffic\"\n",
        "\"COK\",\"CCU\",\"2024-06-24 18:00:00\",\"2024-06-24 21:05:00\",\"2024-06-24 18:05:00\",\"2024-06-24 21:25:00\", \"IndiGo\", \"visibility\"\n",
        "\"CCU\",\"AMD\",\"2024-07-25 04:00:00\",\"2024-07-25 06:45:00\",\"2024-07-25 04:30:00\",\"2024-07-25 07:05:00\", \"IndiGo\", \"airTraffic\"\n",
        "\"CCU\",\"COK\",\"2024-02-28 14:00:00\",\"2024-02-28 17:10:00\",\"2024-02-28 14:10:00\",\"2024-02-28 17:40:00\", \"IndiGo\", \"mechanical\"\n",
        "\"CCU\",\"SXR\",\"2024-04-21 17:00:00\",\"2024-04-21 19:50:00\",\"2024-04-21 17:30:00\",\"2024-04-21 20:05:00\", \"IndiGo\", \"airTraffic\""
      ]
    },
    {
      "cell_type": "code",
      "source": [
        "#Schema to be imposed\n",
        "\"origin_airport\", \"destination_airport\", \"scheduled_departure_time\", \"scheduled_arrival_time\", \"actual_departure_time\", \"actual_arrival_time\", \"carrier\", \"delay_reason\""
      ],
      "metadata": {
        "id": "NSj_Dg60TKxF"
      },
      "execution_count": null,
      "outputs": []
    },
    {
      "cell_type": "code",
      "source": [
        "#Import Libraries\n",
        "!pip install pyspark"
      ],
      "metadata": {
        "id": "6aW0AU3gTKz4",
        "outputId": "69484780-3a04-4feb-f272-491b47a9cbe4",
        "colab": {
          "base_uri": "https://localhost:8080/"
        }
      },
      "execution_count": 1,
      "outputs": [
        {
          "output_type": "stream",
          "name": "stdout",
          "text": [
            "Collecting pyspark\n",
            "  Downloading pyspark-3.5.1.tar.gz (317.0 MB)\n",
            "\u001b[2K     \u001b[90m━━━━━━━━━━━━━━━━━━━━━━━━━━━━━━━━━━━━━━━━\u001b[0m \u001b[32m317.0/317.0 MB\u001b[0m \u001b[31m4.2 MB/s\u001b[0m eta \u001b[36m0:00:00\u001b[0m\n",
            "\u001b[?25h  Preparing metadata (setup.py) ... \u001b[?25l\u001b[?25hdone\n",
            "Requirement already satisfied: py4j==0.10.9.7 in /usr/local/lib/python3.10/dist-packages (from pyspark) (0.10.9.7)\n",
            "Building wheels for collected packages: pyspark\n",
            "  Building wheel for pyspark (setup.py) ... \u001b[?25l\u001b[?25hdone\n",
            "  Created wheel for pyspark: filename=pyspark-3.5.1-py2.py3-none-any.whl size=317488490 sha256=b9fa4ef709121f2c0f6d5ae3bfc897117f02fb17488beb5d8bf0d0899874d748\n",
            "  Stored in directory: /root/.cache/pip/wheels/80/1d/60/2c256ed38dddce2fdd93be545214a63e02fbd8d74fb0b7f3a6\n",
            "Successfully built pyspark\n",
            "Installing collected packages: pyspark\n",
            "Successfully installed pyspark-3.5.1\n"
          ]
        }
      ]
    },
    {
      "cell_type": "code",
      "source": [
        "from pyspark.sql import SparkSession\n",
        "import pyspark.sql.functions as f\n",
        "from pyspark.sql.types import *"
      ],
      "metadata": {
        "id": "eHAN0a3fzze9"
      },
      "execution_count": 6,
      "outputs": []
    },
    {
      "cell_type": "code",
      "source": [
        "#Create a SparkSession\n",
        "lti_spark=SparkSession.builder.appName(\"lti_assign\").getOrCreate()\n",
        "lti_spark"
      ],
      "metadata": {
        "id": "zF51idgGTK2v",
        "outputId": "83ada71d-c7bd-4f3a-b168-d20a4191b3c0",
        "colab": {
          "base_uri": "https://localhost:8080/",
          "height": 219
        }
      },
      "execution_count": 64,
      "outputs": [
        {
          "output_type": "execute_result",
          "data": {
            "text/plain": [
              "<pyspark.sql.session.SparkSession at 0x7dc236132a40>"
            ],
            "text/html": [
              "\n",
              "            <div>\n",
              "                <p><b>SparkSession - in-memory</b></p>\n",
              "                \n",
              "        <div>\n",
              "            <p><b>SparkContext</b></p>\n",
              "\n",
              "            <p><a href=\"http://4d4b6777e19d:4040\">Spark UI</a></p>\n",
              "\n",
              "            <dl>\n",
              "              <dt>Version</dt>\n",
              "                <dd><code>v3.5.1</code></dd>\n",
              "              <dt>Master</dt>\n",
              "                <dd><code>local[*]</code></dd>\n",
              "              <dt>AppName</dt>\n",
              "                <dd><code>lti_assign</code></dd>\n",
              "            </dl>\n",
              "        </div>\n",
              "        \n",
              "            </div>\n",
              "        "
            ]
          },
          "metadata": {},
          "execution_count": 64
        }
      ]
    },
    {
      "cell_type": "code",
      "source": [
        "schema = StructType([\n",
        "        StructField('origin_airport', StringType(),\n",
        "         True),\n",
        "        StructField('destination_airport', StringType(),\n",
        "         True),\n",
        "        StructField('scheduled_departure_time', StringType(),\n",
        "         True),\n",
        "        StructField('scheduled_arrival_time', StringType(),\n",
        "         True),\n",
        "        StructField('actual_departure_time', StringType(),\n",
        "         True),\n",
        "        StructField('actual_arrival_time', StringType(),\n",
        "         True),\n",
        "        StructField('carrier', StringType(),\n",
        "         True),\n",
        "        StructField('delay_reason', StringType(),\n",
        "         True)\n",
        "         ])"
      ],
      "metadata": {
        "id": "6weCQDvW2seA"
      },
      "execution_count": 65,
      "outputs": []
    },
    {
      "cell_type": "code",
      "source": [
        "path='/content/flight.csv'"
      ],
      "metadata": {
        "id": "UmQcLkLPKlYk"
      },
      "execution_count": 66,
      "outputs": []
    },
    {
      "cell_type": "code",
      "source": [
        "#Create dataframe for the given data using enforced Schema method\n",
        "\n",
        "df= lti_spark.read.csv(path,header=True,schema=schema)\n",
        "df.show()"
      ],
      "metadata": {
        "id": "bJjbtnDqTK42",
        "outputId": "2caec037-2159-46a1-9874-1746246eb30f",
        "colab": {
          "base_uri": "https://localhost:8080/"
        }
      },
      "execution_count": 77,
      "outputs": [
        {
          "output_type": "stream",
          "name": "stdout",
          "text": [
            "+--------------+-------------------+------------------------+----------------------+---------------------+-------------------+----------+-------------+\n",
            "|origin_airport|destination_airport|scheduled_departure_time|scheduled_arrival_time|actual_departure_time|actual_arrival_time|   carrier| delay_reason|\n",
            "+--------------+-------------------+------------------------+----------------------+---------------------+-------------------+----------+-------------+\n",
            "|           COK|                SXR|     2024-02-25 12:00:00|   2024-02-25 18:30:00|  2024-02-25 12:15:00|2024-02-25 19:15:00|   Vistara| \"mechanical\"|\n",
            "|           COK|                AMD|     2024-03-24 08:00:00|   2024-03-24 10:40:00|  2024-03-24 08:17:00|2024-03-24 11:00:00| Akasa Air|      \"storm\"|\n",
            "|           SXR|                AMD|     2024-04-28 05:30:00|   2024-04-28 07:35:00|  2024-04-28 05:50:00|2024-04-28 07:55:00|   Vistara| \"visibility\"|\n",
            "|           AMD|                SXR|     2024-07-25 07:00:00|   2024-07-25 09:10:00|  2024-07-25 07:10:00|2024-07-25 09:20:00| Akasa Air| \"airTraffic\"|\n",
            "|           AMD|                CCU|     2024-03-28 18:00:00|   2024-03-28 20:25:00|  2024-03-28 19:00:00|2024-03-28 21:15:00| \"Vistara\"|      \"storm\"|\n",
            "|           SXR|                COK|     2024-06-28 23:00:00|   2024-06-29 04:40:00|  2024-06-28 23:40:00|2024-06-29 05:20:00| \"Vistara\"| \"airTraffic\"|\n",
            "|           COK|                CCU|     2024-06-24 18:00:00|   2024-06-24 21:05:00|  2024-06-24 18:05:00|2024-06-24 21:25:00|  \"IndiGo\"| \"visibility\"|\n",
            "|           CCU|                AMD|     2024-07-25 04:00:00|   2024-07-25 06:45:00|  2024-07-25 04:30:00|2024-07-25 07:05:00|  \"IndiGo\"| \"airTraffic\"|\n",
            "|           CCU|                COK|     2024-02-28 14:00:00|   2024-02-28 17:10:00|  2024-02-28 14:10:00|2024-02-28 17:40:00|  \"IndiGo\"| \"mechanical\"|\n",
            "|           CCU|                SXR|     2024-04-21 17:00:00|   2024-04-21 19:50:00|  2024-04-21 17:30:00|2024-04-21 20:05:00|  \"IndiGo\"| \"airTraffic\"|\n",
            "+--------------+-------------------+------------------------+----------------------+---------------------+-------------------+----------+-------------+\n",
            "\n"
          ]
        }
      ]
    },
    {
      "cell_type": "code",
      "source": [
        "df = df.withColumn(\"scheduled_arrival_time\", f.col(\"scheduled_arrival_time\").cast(TimestampType())).withColumn(\"actual_departure_time\",f.col(\"actual_departure_time\").cast(TimestampType())).withColumn(\"actual_arrival_time\",f.col(\"actual_arrival_time\").cast(TimestampType()))\n"
      ],
      "metadata": {
        "id": "Aih-2WpoOW0o"
      },
      "execution_count": 78,
      "outputs": []
    },
    {
      "cell_type": "code",
      "source": [
        "#convert the data type of column\n",
        "df = df.withColumn(\"scheduled_departure_time\",f.col(\"scheduled_departure_time\").cast(TimestampType()))\n",
        "#df.show()\n",
        "#.withColumn(\"scheduled_arrival_time\", f.col(\"scheduled_arrival_time\").cast(TimestampType())).withColumn(\"actual_departure_time\",f.col(\"actual_departure_time\").cast(TimestampType())).withColumn(\"actual_arrival_time\",f.col(\"actual_arrival_time\").cast(TimestampType()))"
      ],
      "metadata": {
        "id": "KyYuMoFH-edY"
      },
      "execution_count": 79,
      "outputs": []
    },
    {
      "cell_type": "code",
      "source": [
        "df.printSchema()"
      ],
      "metadata": {
        "id": "HiOzr5TxOif1",
        "outputId": "c597b476-68cd-4b32-eaf9-676eebf9a41e",
        "colab": {
          "base_uri": "https://localhost:8080/"
        }
      },
      "execution_count": 80,
      "outputs": [
        {
          "output_type": "stream",
          "name": "stdout",
          "text": [
            "root\n",
            " |-- origin_airport: string (nullable = true)\n",
            " |-- destination_airport: string (nullable = true)\n",
            " |-- scheduled_departure_time: timestamp (nullable = true)\n",
            " |-- scheduled_arrival_time: timestamp (nullable = true)\n",
            " |-- actual_departure_time: timestamp (nullable = true)\n",
            " |-- actual_arrival_time: timestamp (nullable = true)\n",
            " |-- carrier: string (nullable = true)\n",
            " |-- delay_reason: string (nullable = true)\n",
            "\n"
          ]
        }
      ]
    },
    {
      "cell_type": "code",
      "source": [
        "df.filter(df.scheduled_departure_time < df.actual_departure_time).show()"
      ],
      "metadata": {
        "id": "qALvcBfqEasx",
        "outputId": "095b65d3-cb8f-456c-a7ed-fb26e8769fe2",
        "colab": {
          "base_uri": "https://localhost:8080/"
        }
      },
      "execution_count": 81,
      "outputs": [
        {
          "output_type": "stream",
          "name": "stdout",
          "text": [
            "+--------------+-------------------+------------------------+----------------------+---------------------+-------------------+----------+-------------+\n",
            "|origin_airport|destination_airport|scheduled_departure_time|scheduled_arrival_time|actual_departure_time|actual_arrival_time|   carrier| delay_reason|\n",
            "+--------------+-------------------+------------------------+----------------------+---------------------+-------------------+----------+-------------+\n",
            "|           COK|                SXR|     2024-02-25 12:00:00|   2024-02-25 18:30:00|  2024-02-25 12:15:00|2024-02-25 19:15:00|   Vistara| \"mechanical\"|\n",
            "|           COK|                AMD|     2024-03-24 08:00:00|   2024-03-24 10:40:00|  2024-03-24 08:17:00|2024-03-24 11:00:00| Akasa Air|      \"storm\"|\n",
            "|           SXR|                AMD|     2024-04-28 05:30:00|   2024-04-28 07:35:00|  2024-04-28 05:50:00|2024-04-28 07:55:00|   Vistara| \"visibility\"|\n",
            "|           AMD|                SXR|     2024-07-25 07:00:00|   2024-07-25 09:10:00|  2024-07-25 07:10:00|2024-07-25 09:20:00| Akasa Air| \"airTraffic\"|\n",
            "|           AMD|                CCU|     2024-03-28 18:00:00|   2024-03-28 20:25:00|  2024-03-28 19:00:00|2024-03-28 21:15:00| \"Vistara\"|      \"storm\"|\n",
            "|           SXR|                COK|     2024-06-28 23:00:00|   2024-06-29 04:40:00|  2024-06-28 23:40:00|2024-06-29 05:20:00| \"Vistara\"| \"airTraffic\"|\n",
            "|           COK|                CCU|     2024-06-24 18:00:00|   2024-06-24 21:05:00|  2024-06-24 18:05:00|2024-06-24 21:25:00|  \"IndiGo\"| \"visibility\"|\n",
            "|           CCU|                AMD|     2024-07-25 04:00:00|   2024-07-25 06:45:00|  2024-07-25 04:30:00|2024-07-25 07:05:00|  \"IndiGo\"| \"airTraffic\"|\n",
            "|           CCU|                COK|     2024-02-28 14:00:00|   2024-02-28 17:10:00|  2024-02-28 14:10:00|2024-02-28 17:40:00|  \"IndiGo\"| \"mechanical\"|\n",
            "|           CCU|                SXR|     2024-04-21 17:00:00|   2024-04-21 19:50:00|  2024-04-21 17:30:00|2024-04-21 20:05:00|  \"IndiGo\"| \"airTraffic\"|\n",
            "+--------------+-------------------+------------------------+----------------------+---------------------+-------------------+----------+-------------+\n",
            "\n"
          ]
        }
      ]
    },
    {
      "cell_type": "code",
      "source": [
        "df1=df\n",
        "df1=df1.drop(\"delay_minutes\")\n",
        "df1.show()"
      ],
      "metadata": {
        "id": "gGrkD0uhbg4c",
        "outputId": "0330ad04-1038-4915-b3b7-3ac79db81fa7",
        "colab": {
          "base_uri": "https://localhost:8080/"
        }
      },
      "execution_count": 108,
      "outputs": [
        {
          "output_type": "stream",
          "name": "stdout",
          "text": [
            "+--------------+-------------------+------------------------+----------------------+---------------------+-------------------+----------+-------------+\n",
            "|origin_airport|destination_airport|scheduled_departure_time|scheduled_arrival_time|actual_departure_time|actual_arrival_time|   carrier| delay_reason|\n",
            "+--------------+-------------------+------------------------+----------------------+---------------------+-------------------+----------+-------------+\n",
            "|           COK|                SXR|     2024-02-25 12:00:00|   2024-02-25 18:30:00|  2024-02-25 12:15:00|2024-02-25 19:15:00|   Vistara| \"mechanical\"|\n",
            "|           COK|                AMD|     2024-03-24 08:00:00|   2024-03-24 10:40:00|  2024-03-24 08:17:00|2024-03-24 11:00:00| Akasa Air|      \"storm\"|\n",
            "|           SXR|                AMD|     2024-04-28 05:30:00|   2024-04-28 07:35:00|  2024-04-28 05:50:00|2024-04-28 07:55:00|   Vistara| \"visibility\"|\n",
            "|           AMD|                SXR|     2024-07-25 07:00:00|   2024-07-25 09:10:00|  2024-07-25 07:10:00|2024-07-25 09:20:00| Akasa Air| \"airTraffic\"|\n",
            "|           AMD|                CCU|     2024-03-28 18:00:00|   2024-03-28 20:25:00|  2024-03-28 19:00:00|2024-03-28 21:15:00| \"Vistara\"|      \"storm\"|\n",
            "|           SXR|                COK|     2024-06-28 23:00:00|   2024-06-29 04:40:00|  2024-06-28 23:40:00|2024-06-29 05:20:00| \"Vistara\"| \"airTraffic\"|\n",
            "|           COK|                CCU|     2024-06-24 18:00:00|   2024-06-24 21:05:00|  2024-06-24 18:05:00|2024-06-24 21:25:00|  \"IndiGo\"| \"visibility\"|\n",
            "|           CCU|                AMD|     2024-07-25 04:00:00|   2024-07-25 06:45:00|  2024-07-25 04:30:00|2024-07-25 07:05:00|  \"IndiGo\"| \"airTraffic\"|\n",
            "|           CCU|                COK|     2024-02-28 14:00:00|   2024-02-28 17:10:00|  2024-02-28 14:10:00|2024-02-28 17:40:00|  \"IndiGo\"| \"mechanical\"|\n",
            "|           CCU|                SXR|     2024-04-21 17:00:00|   2024-04-21 19:50:00|  2024-04-21 17:30:00|2024-04-21 20:05:00|  \"IndiGo\"| \"airTraffic\"|\n",
            "+--------------+-------------------+------------------------+----------------------+---------------------+-------------------+----------+-------------+\n",
            "\n"
          ]
        }
      ]
    },
    {
      "cell_type": "code",
      "source": [
        "df1.withColumn(\"delay_min\",f.expr(\"unix_timestamp(actual_departure_time)- unix_timestamp(scheduled_departure_time)\")).show()"
      ],
      "metadata": {
        "id": "vCfrFXsOcZWJ",
        "outputId": "ae6c5b0c-f61c-4ad2-e79e-a9cc42d3cc0b",
        "colab": {
          "base_uri": "https://localhost:8080/"
        }
      },
      "execution_count": 115,
      "outputs": [
        {
          "output_type": "stream",
          "name": "stdout",
          "text": [
            "+--------------+-------------------+------------------------+----------------------+---------------------+-------------------+----------+-------------+---------+\n",
            "|origin_airport|destination_airport|scheduled_departure_time|scheduled_arrival_time|actual_departure_time|actual_arrival_time|   carrier| delay_reason|delay_min|\n",
            "+--------------+-------------------+------------------------+----------------------+---------------------+-------------------+----------+-------------+---------+\n",
            "|           COK|                SXR|     2024-02-25 12:00:00|   2024-02-25 18:30:00|  2024-02-25 12:15:00|2024-02-25 19:15:00|   Vistara| \"mechanical\"|      900|\n",
            "|           COK|                AMD|     2024-03-24 08:00:00|   2024-03-24 10:40:00|  2024-03-24 08:17:00|2024-03-24 11:00:00| Akasa Air|      \"storm\"|     1020|\n",
            "|           SXR|                AMD|     2024-04-28 05:30:00|   2024-04-28 07:35:00|  2024-04-28 05:50:00|2024-04-28 07:55:00|   Vistara| \"visibility\"|     1200|\n",
            "|           AMD|                SXR|     2024-07-25 07:00:00|   2024-07-25 09:10:00|  2024-07-25 07:10:00|2024-07-25 09:20:00| Akasa Air| \"airTraffic\"|      600|\n",
            "|           AMD|                CCU|     2024-03-28 18:00:00|   2024-03-28 20:25:00|  2024-03-28 19:00:00|2024-03-28 21:15:00| \"Vistara\"|      \"storm\"|     3600|\n",
            "|           SXR|                COK|     2024-06-28 23:00:00|   2024-06-29 04:40:00|  2024-06-28 23:40:00|2024-06-29 05:20:00| \"Vistara\"| \"airTraffic\"|     2400|\n",
            "|           COK|                CCU|     2024-06-24 18:00:00|   2024-06-24 21:05:00|  2024-06-24 18:05:00|2024-06-24 21:25:00|  \"IndiGo\"| \"visibility\"|      300|\n",
            "|           CCU|                AMD|     2024-07-25 04:00:00|   2024-07-25 06:45:00|  2024-07-25 04:30:00|2024-07-25 07:05:00|  \"IndiGo\"| \"airTraffic\"|     1800|\n",
            "|           CCU|                COK|     2024-02-28 14:00:00|   2024-02-28 17:10:00|  2024-02-28 14:10:00|2024-02-28 17:40:00|  \"IndiGo\"| \"mechanical\"|      600|\n",
            "|           CCU|                SXR|     2024-04-21 17:00:00|   2024-04-21 19:50:00|  2024-04-21 17:30:00|2024-04-21 20:05:00|  \"IndiGo\"| \"airTraffic\"|     1800|\n",
            "+--------------+-------------------+------------------------+----------------------+---------------------+-------------------+----------+-------------+---------+\n",
            "\n"
          ]
        }
      ]
    },
    {
      "cell_type": "code",
      "source": [
        "df=df.withColumn(\"delay_minutes\",f.col(\"actual_departure_time\")-f.col(\"scheduled_departure_time\"))\n",
        "df.show()"
      ],
      "metadata": {
        "id": "O3a00GGATXXW",
        "outputId": "18f877cc-fe08-436d-f5fd-18bc5dc199e6",
        "colab": {
          "base_uri": "https://localhost:8080/"
        }
      },
      "execution_count": 84,
      "outputs": [
        {
          "output_type": "stream",
          "name": "stdout",
          "text": [
            "+--------------+-------------------+------------------------+----------------------+---------------------+-------------------+----------+-------------+--------------------+\n",
            "|origin_airport|destination_airport|scheduled_departure_time|scheduled_arrival_time|actual_departure_time|actual_arrival_time|   carrier| delay_reason|       delay_minutes|\n",
            "+--------------+-------------------+------------------------+----------------------+---------------------+-------------------+----------+-------------+--------------------+\n",
            "|           COK|                SXR|     2024-02-25 12:00:00|   2024-02-25 18:30:00|  2024-02-25 12:15:00|2024-02-25 19:15:00|   Vistara| \"mechanical\"|INTERVAL '0 00:15...|\n",
            "|           COK|                AMD|     2024-03-24 08:00:00|   2024-03-24 10:40:00|  2024-03-24 08:17:00|2024-03-24 11:00:00| Akasa Air|      \"storm\"|INTERVAL '0 00:17...|\n",
            "|           SXR|                AMD|     2024-04-28 05:30:00|   2024-04-28 07:35:00|  2024-04-28 05:50:00|2024-04-28 07:55:00|   Vistara| \"visibility\"|INTERVAL '0 00:20...|\n",
            "|           AMD|                SXR|     2024-07-25 07:00:00|   2024-07-25 09:10:00|  2024-07-25 07:10:00|2024-07-25 09:20:00| Akasa Air| \"airTraffic\"|INTERVAL '0 00:10...|\n",
            "|           AMD|                CCU|     2024-03-28 18:00:00|   2024-03-28 20:25:00|  2024-03-28 19:00:00|2024-03-28 21:15:00| \"Vistara\"|      \"storm\"|INTERVAL '0 01:00...|\n",
            "|           SXR|                COK|     2024-06-28 23:00:00|   2024-06-29 04:40:00|  2024-06-28 23:40:00|2024-06-29 05:20:00| \"Vistara\"| \"airTraffic\"|INTERVAL '0 00:40...|\n",
            "|           COK|                CCU|     2024-06-24 18:00:00|   2024-06-24 21:05:00|  2024-06-24 18:05:00|2024-06-24 21:25:00|  \"IndiGo\"| \"visibility\"|INTERVAL '0 00:05...|\n",
            "|           CCU|                AMD|     2024-07-25 04:00:00|   2024-07-25 06:45:00|  2024-07-25 04:30:00|2024-07-25 07:05:00|  \"IndiGo\"| \"airTraffic\"|INTERVAL '0 00:30...|\n",
            "|           CCU|                COK|     2024-02-28 14:00:00|   2024-02-28 17:10:00|  2024-02-28 14:10:00|2024-02-28 17:40:00|  \"IndiGo\"| \"mechanical\"|INTERVAL '0 00:10...|\n",
            "|           CCU|                SXR|     2024-04-21 17:00:00|   2024-04-21 19:50:00|  2024-04-21 17:30:00|2024-04-21 20:05:00|  \"IndiGo\"| \"airTraffic\"|INTERVAL '0 00:30...|\n",
            "+--------------+-------------------+------------------------+----------------------+---------------------+-------------------+----------+-------------+--------------------+\n",
            "\n"
          ]
        }
      ]
    },
    {
      "cell_type": "code",
      "source": [
        "#Calculate Average delay per source airport\n",
        "df.groupby(\"origin_airport\").agg(f.avg(\"delay_minutes\")).show()"
      ],
      "metadata": {
        "id": "6eyemK93TK-i",
        "outputId": "60f2fa26-c839-4509-b95a-de0278a28d44",
        "colab": {
          "base_uri": "https://localhost:8080/"
        }
      },
      "execution_count": 85,
      "outputs": [
        {
          "output_type": "stream",
          "name": "stdout",
          "text": [
            "+--------------+--------------------+\n",
            "|origin_airport|  avg(delay_minutes)|\n",
            "+--------------+--------------------+\n",
            "|           SXR|INTERVAL '0 00:30...|\n",
            "|           AMD|INTERVAL '0 00:35...|\n",
            "|           CCU|INTERVAL '0 00:23...|\n",
            "|           COK|INTERVAL '0 00:12...|\n",
            "+--------------+--------------------+\n",
            "\n"
          ]
        }
      ]
    },
    {
      "cell_type": "code",
      "source": [
        "##Calculate Average delay per destination airport\n",
        "df.groupby(\"destination_airport\").agg(f.avg(\"delay_minutes\")).show()"
      ],
      "metadata": {
        "id": "WL0mvZQjTLA4",
        "outputId": "b4b56b1b-842a-4b08-985c-00cc3ed72a8e",
        "colab": {
          "base_uri": "https://localhost:8080/"
        }
      },
      "execution_count": 87,
      "outputs": [
        {
          "output_type": "stream",
          "name": "stdout",
          "text": [
            "+-------------------+--------------------+\n",
            "|destination_airport|  avg(delay_minutes)|\n",
            "+-------------------+--------------------+\n",
            "|                SXR|INTERVAL '0 00:18...|\n",
            "|                AMD|INTERVAL '0 00:22...|\n",
            "|                CCU|INTERVAL '0 00:32...|\n",
            "|                COK|INTERVAL '0 00:25...|\n",
            "+-------------------+--------------------+\n",
            "\n"
          ]
        }
      ]
    },
    {
      "cell_type": "code",
      "source": [
        "#Calculate Average delay per airline\n",
        "df.groupby(\"carrier\").agg({\"delay_minutes\":\"avg\"}).show()"
      ],
      "metadata": {
        "id": "E926xJ-0sYzJ",
        "outputId": "358bbc3b-46c6-46c9-dfc5-eab4c7317556",
        "colab": {
          "base_uri": "https://localhost:8080/"
        }
      },
      "execution_count": 89,
      "outputs": [
        {
          "output_type": "stream",
          "name": "stdout",
          "text": [
            "+----------+--------------------+\n",
            "|   carrier|  avg(delay_minutes)|\n",
            "+----------+--------------------+\n",
            "| Akasa Air|INTERVAL '0 00:13...|\n",
            "| \"Vistara\"|INTERVAL '0 00:50...|\n",
            "|  \"IndiGo\"|INTERVAL '0 00:18...|\n",
            "|   Vistara|INTERVAL '0 00:17...|\n",
            "+----------+--------------------+\n",
            "\n"
          ]
        }
      ]
    },
    {
      "cell_type": "code",
      "source": [
        "#Fetch airline with maximum delay (in single flight)\n",
        "df.select(\"carrier\").sort(\"delay_minutes\",ascending=False).collect()[0][0]"
      ],
      "metadata": {
        "id": "vjYnz1lnsY1-",
        "outputId": "69e968fe-6c78-4c85-f041-edb73d7e0149",
        "colab": {
          "base_uri": "https://localhost:8080/",
          "height": 35
        }
      },
      "execution_count": 97,
      "outputs": [
        {
          "output_type": "execute_result",
          "data": {
            "text/plain": [
              "' \"Vistara\"'"
            ],
            "application/vnd.google.colaboratory.intrinsic+json": {
              "type": "string"
            }
          },
          "metadata": {},
          "execution_count": 97
        }
      ]
    },
    {
      "cell_type": "code",
      "source": [
        "#Fetch airline with maximum delay (overall time delay)\n"
      ],
      "metadata": {
        "id": "rnafU6f8sY5E"
      },
      "execution_count": null,
      "outputs": []
    },
    {
      "cell_type": "code",
      "source": [
        "#Fetch airline with minimum delay (in single flight)\n",
        "df.select(\"carrier\").sort(\"delay_minutes\").limit(1).show()"
      ],
      "metadata": {
        "id": "nV2IzGmawZA3",
        "outputId": "5e05b530-c4b8-4f8d-dc14-2e19c7fbfc57",
        "colab": {
          "base_uri": "https://localhost:8080/"
        }
      },
      "execution_count": 98,
      "outputs": [
        {
          "output_type": "stream",
          "name": "stdout",
          "text": [
            "+---------+\n",
            "|  carrier|\n",
            "+---------+\n",
            "| \"IndiGo\"|\n",
            "+---------+\n",
            "\n"
          ]
        }
      ]
    },
    {
      "cell_type": "code",
      "source": [
        "#Fetch airline with minimum delay (overall time delay)\n"
      ],
      "metadata": {
        "id": "CLs2jLCVsY7e"
      },
      "execution_count": null,
      "outputs": []
    },
    {
      "cell_type": "code",
      "source": [],
      "metadata": {
        "id": "Z-XMLL35C-mO"
      },
      "execution_count": null,
      "outputs": []
    },
    {
      "cell_type": "code",
      "source": [
        "#Calculate Average delay per reason\n",
        "df.groupby(\"delay_reason\").agg(f.avg(\"delay_minutes\")).show()"
      ],
      "metadata": {
        "id": "j1wbEA5esY9b",
        "outputId": "01401a8f-3d5e-47a7-b357-57770cb4225b",
        "colab": {
          "base_uri": "https://localhost:8080/"
        }
      },
      "execution_count": 99,
      "outputs": [
        {
          "output_type": "stream",
          "name": "stdout",
          "text": [
            "+-------------+--------------------+\n",
            "| delay_reason|  avg(delay_minutes)|\n",
            "+-------------+--------------------+\n",
            "| \"mechanical\"|INTERVAL '0 00:12...|\n",
            "| \"visibility\"|INTERVAL '0 00:12...|\n",
            "|      \"storm\"|INTERVAL '0 00:38...|\n",
            "| \"airTraffic\"|INTERVAL '0 00:27...|\n",
            "+-------------+--------------------+\n",
            "\n"
          ]
        }
      ]
    },
    {
      "cell_type": "code",
      "source": [
        "#Find most recurring cause of delays\n",
        "df.groupby(\"delay_reason\").count().sort(\"count\",ascending=False).limit(1).show()"
      ],
      "metadata": {
        "id": "6L4hSBbxsZAo",
        "outputId": "5b500b1e-2c56-421d-a0c6-24431f89a8d9",
        "colab": {
          "base_uri": "https://localhost:8080/"
        }
      },
      "execution_count": 106,
      "outputs": [
        {
          "output_type": "stream",
          "name": "stdout",
          "text": [
            "+-------------+-----+\n",
            "| delay_reason|count|\n",
            "+-------------+-----+\n",
            "| \"airTraffic\"|    4|\n",
            "+-------------+-----+\n",
            "\n"
          ]
        }
      ]
    },
    {
      "cell_type": "code",
      "source": [
        "#Identify the airline with best recovery time\n",
        "# (Even though the flight started late, the airline recovered a few minutes in flight time)\n",
        "\n",
        "\n"
      ],
      "metadata": {
        "id": "2PjP8N9os0zz"
      },
      "execution_count": null,
      "outputs": []
    }
  ]
}