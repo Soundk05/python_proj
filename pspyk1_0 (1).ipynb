{
  "nbformat": 4,
  "nbformat_minor": 0,
  "metadata": {
    "colab": {
      "provenance": []
    },
    "kernelspec": {
      "name": "python3",
      "display_name": "Python 3"
    },
    "language_info": {
      "name": "python"
    }
  },
  "cells": [
    {
      "cell_type": "markdown",
      "source": [
        "#PySpark Practice Notebook"
      ],
      "metadata": {
        "id": "W6NeVZKBJR5G"
      }
    },
    {
      "cell_type": "code",
      "source": [
        "#Source Data\n",
        "#Create a csv file for the following data\n",
        "product_id,product,country,sales\n",
        "1,Product A,USA,100\n",
        "2,Product B,USA,80\n",
        "3,Product C,USA,30\n",
        "1,Product A,Canada,60\n",
        "2,Product B,Canada,40\n",
        "4,Product D,UK,50\n",
        "5,Product E,UK,20\n",
        "1,Product A,Germany,70\n",
        "3,Product C,Germany,90\n",
        "4,Product D,Germany,40"
      ],
      "metadata": {
        "id": "PQ1dB4lsJRQZ"
      },
      "execution_count": null,
      "outputs": []
    },
    {
      "cell_type": "code",
      "execution_count": 2,
      "metadata": {
        "id": "z3H-jZd_I0xr",
        "outputId": "a5f0da2a-ae3c-4dc8-b619-bfd6c873caf5",
        "colab": {
          "base_uri": "https://localhost:8080/"
        }
      },
      "outputs": [
        {
          "output_type": "stream",
          "name": "stdout",
          "text": [
            "Collecting pyspark\n",
            "  Downloading pyspark-3.5.1.tar.gz (317.0 MB)\n",
            "\u001b[2K     \u001b[90m━━━━━━━━━━━━━━━━━━━━━━━━━━━━━━━━━━━━━━━━\u001b[0m \u001b[32m317.0/317.0 MB\u001b[0m \u001b[31m3.4 MB/s\u001b[0m eta \u001b[36m0:00:00\u001b[0m\n",
            "\u001b[?25h  Preparing metadata (setup.py) ... \u001b[?25l\u001b[?25hdone\n",
            "Requirement already satisfied: py4j==0.10.9.7 in /usr/local/lib/python3.10/dist-packages (from pyspark) (0.10.9.7)\n",
            "Building wheels for collected packages: pyspark\n",
            "  Building wheel for pyspark (setup.py) ... \u001b[?25l\u001b[?25hdone\n",
            "  Created wheel for pyspark: filename=pyspark-3.5.1-py2.py3-none-any.whl size=317488491 sha256=2f96ca1235c8a534c1f4b20129370c14a1c9ffeb9b53fe3a1b5ab2653d11d0ba\n",
            "  Stored in directory: /root/.cache/pip/wheels/80/1d/60/2c256ed38dddce2fdd93be545214a63e02fbd8d74fb0b7f3a6\n",
            "Successfully built pyspark\n",
            "Installing collected packages: pyspark\n",
            "Successfully installed pyspark-3.5.1\n"
          ]
        }
      ],
      "source": [
        "#Import Pyspark & other necessary functions\n",
        "!pip install pyspark"
      ]
    },
    {
      "cell_type": "code",
      "source": [
        "#Create SparkSession for app \"Sales Data Analysis\"\n",
        "from pyspark.sql import SparkSession\n",
        "ps_spark=SparkSession.builder.appName(\"Sales Data Analysis\").getOrCreate()"
      ],
      "metadata": {
        "id": "ZFPi1eqMKFF7"
      },
      "execution_count": 4,
      "outputs": []
    },
    {
      "cell_type": "code",
      "source": [
        "%%writefile product.csv\n",
        "product_id,product,country,sales\n",
        "1,Product A,USA,100\n",
        "2,Product B,USA,80\n",
        "3,Product C,USA,30\n",
        "1,Product A,Canada,60\n",
        "2,Product B,Canada,40\n",
        "4,Product D,UK,50\n",
        "5,Product E,UK,20\n",
        "1,Product A,Germany,70\n",
        "3,Product C,Germany,90\n",
        "4,Product D,Germany,40\n"
      ],
      "metadata": {
        "id": "MW4F-psvMaDo",
        "outputId": "d886f356-e797-4f7c-a03f-2e1c6c26ff90",
        "colab": {
          "base_uri": "https://localhost:8080/"
        }
      },
      "execution_count": 6,
      "outputs": [
        {
          "output_type": "stream",
          "name": "stdout",
          "text": [
            "Writing product.csv\n"
          ]
        }
      ]
    },
    {
      "cell_type": "code",
      "source": [
        "#Create a pyspark DataFrame from the csv file on local storage\n",
        "ps_df=ps_spark.read.option(\"header\",\"True\").csv(\"/content/product.csv\")"
      ],
      "metadata": {
        "id": "kLiq1rcAJiV5"
      },
      "execution_count": 9,
      "outputs": []
    },
    {
      "cell_type": "code",
      "source": [
        "#Verify schema for the newly created file\n",
        "ps_df.printSchema()"
      ],
      "metadata": {
        "id": "_fQfbu4_JiYf",
        "outputId": "af48e413-be31-4378-aa7e-9ad7616b5ade",
        "colab": {
          "base_uri": "https://localhost:8080/"
        }
      },
      "execution_count": 10,
      "outputs": [
        {
          "output_type": "stream",
          "name": "stdout",
          "text": [
            "root\n",
            " |-- product_id: string (nullable = true)\n",
            " |-- product: string (nullable = true)\n",
            " |-- country: string (nullable = true)\n",
            " |-- sales: string (nullable = true)\n",
            "\n"
          ]
        }
      ]
    },
    {
      "cell_type": "code",
      "source": [
        "#Display all entries for country \"Germany\"\n",
        "ps_df.filter(ps_df[\"country\"]==\"Germany\").show()"
      ],
      "metadata": {
        "id": "U4k8qR1zJia2",
        "outputId": "af970263-1e39-4480-aa7f-cb816e0766ec",
        "colab": {
          "base_uri": "https://localhost:8080/"
        }
      },
      "execution_count": 11,
      "outputs": [
        {
          "output_type": "stream",
          "name": "stdout",
          "text": [
            "+----------+---------+-------+-----+\n",
            "|product_id|  product|country|sales|\n",
            "+----------+---------+-------+-----+\n",
            "|         1|Product A|Germany|   70|\n",
            "|         3|Product C|Germany|   90|\n",
            "|         4|Product D|Germany|   40|\n",
            "+----------+---------+-------+-----+\n",
            "\n"
          ]
        }
      ]
    },
    {
      "cell_type": "code",
      "source": [
        "#Find the total number of products\n",
        "df3=ps_df.select(\"Product\").distinct()\n",
        "print(df3.count())\n",
        "df3.show()"
      ],
      "metadata": {
        "id": "e5PRmHMuJ47W",
        "outputId": "9b137631-2db0-48b5-83fb-434c7482f451",
        "colab": {
          "base_uri": "https://localhost:8080/"
        }
      },
      "execution_count": 19,
      "outputs": [
        {
          "output_type": "stream",
          "name": "stdout",
          "text": [
            "5\n",
            "+---------+\n",
            "|  Product|\n",
            "+---------+\n",
            "|Product A|\n",
            "|Product B|\n",
            "|Product C|\n",
            "|Product D|\n",
            "|Product E|\n",
            "+---------+\n",
            "\n"
          ]
        }
      ]
    },
    {
      "cell_type": "code",
      "source": [
        "#Find top 3 products\n",
        "ps_df.groupBy(\"Product\").agg({\"Sales\":\"sum\"}).show(3)"
      ],
      "metadata": {
        "id": "fFz6bN_dJ49q",
        "outputId": "9fb4b5d8-438d-464e-fc74-73646458a4f1",
        "colab": {
          "base_uri": "https://localhost:8080/"
        }
      },
      "execution_count": 29,
      "outputs": [
        {
          "output_type": "stream",
          "name": "stdout",
          "text": [
            "+---------+----------+\n",
            "|  Product|sum(Sales)|\n",
            "+---------+----------+\n",
            "|Product A|     230.0|\n",
            "|Product B|     120.0|\n",
            "|Product C|     120.0|\n",
            "+---------+----------+\n",
            "only showing top 3 rows\n",
            "\n"
          ]
        }
      ]
    },
    {
      "cell_type": "code",
      "source": [
        "#Calculate total sales\n",
        "ps_df.groupby(\"Product\").agg({\"Sales\":\"sum\"}).show()"
      ],
      "metadata": {
        "id": "j4vyUsi2J5AR",
        "outputId": "eb6bf42d-272c-4777-afd1-1f3aaf61e4ad",
        "colab": {
          "base_uri": "https://localhost:8080/"
        }
      },
      "execution_count": 28,
      "outputs": [
        {
          "output_type": "stream",
          "name": "stdout",
          "text": [
            "+---------+----------+\n",
            "|  Product|sum(Sales)|\n",
            "+---------+----------+\n",
            "|Product A|     230.0|\n",
            "|Product B|     120.0|\n",
            "|Product C|     120.0|\n",
            "|Product D|      90.0|\n",
            "|Product E|      20.0|\n",
            "+---------+----------+\n",
            "\n"
          ]
        }
      ]
    },
    {
      "cell_type": "code",
      "source": [
        "#Find the market share of all products individually\n",
        "tot=ps_df.groupby(\"Product\").agg({\"Sales\":\"sum\"})\n",
        "#ms_a=ps_df.groupby(\"Product\").agg({\"Sales\":\"sum\"})/tot\n",
        "#ms_a.show()\n",
        "x = tot.withColumnRenamed(\"sum(Sales)\",\"Total_Sales\")\n",
        "x.show()"
      ],
      "metadata": {
        "id": "WTxjxvceJ5Ct",
        "outputId": "3bb4c004-aebb-44e4-9351-f47f00426ef1",
        "colab": {
          "base_uri": "https://localhost:8080/"
        }
      },
      "execution_count": 40,
      "outputs": [
        {
          "output_type": "stream",
          "name": "stdout",
          "text": [
            "+---------+-----------+\n",
            "|  Product|Total_Sales|\n",
            "+---------+-----------+\n",
            "|Product A|      230.0|\n",
            "|Product B|      120.0|\n",
            "|Product C|      120.0|\n",
            "|Product D|       90.0|\n",
            "|Product E|       20.0|\n",
            "+---------+-----------+\n",
            "\n"
          ]
        }
      ]
    },
    {
      "cell_type": "code",
      "source": [
        "t = x.agg({\"Total_Sales\":\"sum\"}).collect()[0][0]\n",
        "t"
      ],
      "metadata": {
        "id": "j11wOJTzfjaI",
        "outputId": "dc5db80c-e92d-47ff-e3da-79d9afd576b3",
        "colab": {
          "base_uri": "https://localhost:8080/"
        }
      },
      "execution_count": 50,
      "outputs": [
        {
          "output_type": "execute_result",
          "data": {
            "text/plain": [
              "580.0"
            ]
          },
          "metadata": {},
          "execution_count": 50
        }
      ]
    },
    {
      "cell_type": "code",
      "source": [],
      "metadata": {
        "id": "ISENSMykgrt3"
      },
      "execution_count": null,
      "outputs": []
    },
    {
      "cell_type": "code",
      "source": [
        "y =x.withColumn(\"market_share\",x.Total_Sales/t)\n",
        "y.show()"
      ],
      "metadata": {
        "id": "KxODs-0RYCHb",
        "outputId": "c6be7f0e-cce6-4577-c3d6-c6d6acf8a252",
        "colab": {
          "base_uri": "https://localhost:8080/"
        }
      },
      "execution_count": 56,
      "outputs": [
        {
          "output_type": "stream",
          "name": "stdout",
          "text": [
            "+---------+-----------+--------------------+\n",
            "|  Product|Total_Sales|        market_share|\n",
            "+---------+-----------+--------------------+\n",
            "|Product A|      230.0| 0.39655172413793105|\n",
            "|Product B|      120.0| 0.20689655172413793|\n",
            "|Product C|      120.0| 0.20689655172413793|\n",
            "|Product D|       90.0| 0.15517241379310345|\n",
            "|Product E|       20.0|0.034482758620689655|\n",
            "+---------+-----------+--------------------+\n",
            "\n"
          ]
        }
      ]
    },
    {
      "cell_type": "code",
      "source": [],
      "metadata": {
        "id": "WviTJZ_pgNG0"
      },
      "execution_count": null,
      "outputs": []
    }
  ]
}