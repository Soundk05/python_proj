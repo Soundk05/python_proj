{
  "nbformat": 4,
  "nbformat_minor": 0,
  "metadata": {
    "colab": {
      "provenance": []
    },
    "kernelspec": {
      "name": "python3",
      "display_name": "Python 3"
    },
    "language_info": {
      "name": "python"
    }
  },
  "cells": [
    {
      "cell_type": "code",
      "execution_count": 95,
      "metadata": {
        "id": "UoH8kZvLICAR",
        "outputId": "b3ef7ef1-e977-4998-8a74-7b3cbb16b868",
        "colab": {
          "base_uri": "https://localhost:8080/"
        }
      },
      "outputs": [
        {
          "output_type": "stream",
          "name": "stdout",
          "text": [
            "Overwriting series.csv\n"
          ]
        }
      ],
      "source": [
        "#user_data\n",
        "%%writefile series.csv\n",
        "user_id,series,season,timestamp,genre,duration_mins\n",
        "521,Mirzapur,3,2024-07-30 15:00:00,action,300\n",
        "672,Panchayat,3,2024-07-30 15:00:00,comedy,200\n",
        "197,Family Man,2,2024-07-30 15:00:00,action,500\n",
        "521,Mirzapur,2,2024-07-29 15:00:00,action,280\n",
        "211,Queens Gambit,1,2024-07-30 15:00:00,drama,170\n",
        "521,Mirzapur,1,2024-07-28 15:00:00,action,230\n",
        "844,Westworld,3,2024-07-30 15:00:00,sci-fi,310\n",
        "672,Panchayat,3,2024-07-29 15:00:00,comedy,210\n",
        "256,Homecoming,2,2024-07-30 15:00:00,thriller,310\n",
        "489,Outer Range,1,2024-07-30 15:00:00,sci-fi,340\n",
        "200,Black Mirror,2,2024-07-30 15:00:00,sci-fi,140\n",
        "256,Outer Range,2,2024-07-30 15:00:00,thriller,250\n",
        "489,Outer Range,2,2024-07-28 15:00:00,sci-fi,170\n",
        "200,Black Mirror,3,2024-07-29 15:00:00,sci-fi,190\n",
        "672,Panchayat,2,2024-07-28 15:00:00,comedy,160\n",
        "672,Outer Range,1,2024-07-25 15:00:00,sci-fi,250\n",
        "200,Black Mirror,4,2024-07-28 15:00:00,sci-fi,200\n",
        "844,Westworld,2,2024-07-29 15:00:00,sci-fi,300\n",
        "672,Black Mirror,5,2024-07-28 15:00:00,sci-fi,150\n",
        "672,Panchayat,1,2024-07-27 15:00:00,comedy,190"
      ]
    },
    {
      "cell_type": "code",
      "source": [
        "#Import Libraries\n",
        "!pip install pyspark"
      ],
      "metadata": {
        "id": "GLxzpwaSIJRA",
        "outputId": "3007864d-2232-4c75-bcec-e2d11bb856df",
        "colab": {
          "base_uri": "https://localhost:8080/"
        }
      },
      "execution_count": 1,
      "outputs": [
        {
          "output_type": "stream",
          "name": "stdout",
          "text": [
            "Collecting pyspark\n",
            "  Downloading pyspark-3.5.1.tar.gz (317.0 MB)\n",
            "\u001b[2K     \u001b[90m━━━━━━━━━━━━━━━━━━━━━━━━━━━━━━━━━━━━━━━━\u001b[0m \u001b[32m317.0/317.0 MB\u001b[0m \u001b[31m4.6 MB/s\u001b[0m eta \u001b[36m0:00:00\u001b[0m\n",
            "\u001b[?25h  Preparing metadata (setup.py) ... \u001b[?25l\u001b[?25hdone\n",
            "Requirement already satisfied: py4j==0.10.9.7 in /usr/local/lib/python3.10/dist-packages (from pyspark) (0.10.9.7)\n",
            "Building wheels for collected packages: pyspark\n",
            "  Building wheel for pyspark (setup.py) ... \u001b[?25l\u001b[?25hdone\n",
            "  Created wheel for pyspark: filename=pyspark-3.5.1-py2.py3-none-any.whl size=317488490 sha256=8738ae9459ba7b7cb06d1b804999e8290e08641bdcd9c9af22afc8d826207cd9\n",
            "  Stored in directory: /root/.cache/pip/wheels/80/1d/60/2c256ed38dddce2fdd93be545214a63e02fbd8d74fb0b7f3a6\n",
            "Successfully built pyspark\n",
            "Installing collected packages: pyspark\n",
            "Successfully installed pyspark-3.5.1\n"
          ]
        }
      ]
    },
    {
      "cell_type": "code",
      "source": [
        "from pyspark.sql import SparkSession\n",
        "import pyspark.sql.functions as f\n",
        "from pyspark.sql.types import *"
      ],
      "metadata": {
        "id": "Y6zVrBNPMloq"
      },
      "execution_count": 96,
      "outputs": []
    },
    {
      "cell_type": "code",
      "source": [
        "#Create SparkSession for app (Streaming Analysis)\n",
        "ls=SparkSession.builder.appName(\"streaming analysis\").getOrCreate()"
      ],
      "metadata": {
        "id": "YChMWo_nIJTq"
      },
      "execution_count": 97,
      "outputs": []
    },
    {
      "cell_type": "code",
      "source": [
        "#Create Dataframe series_df\n",
        "ser=ls.read.csv(\"/content/series.csv\",header=True)\n",
        "ser.show()"
      ],
      "metadata": {
        "id": "gljhEO_IIJXB",
        "outputId": "490ef949-11b1-4b25-89b5-8d5d1c023779",
        "colab": {
          "base_uri": "https://localhost:8080/"
        }
      },
      "execution_count": 98,
      "outputs": [
        {
          "output_type": "stream",
          "name": "stdout",
          "text": [
            "+-------+-------------+------+-------------------+--------+-------------+\n",
            "|user_id|       series|season|          timestamp|   genre|duration_mins|\n",
            "+-------+-------------+------+-------------------+--------+-------------+\n",
            "|    521|     Mirzapur|     3|2024-07-30 15:00:00|  action|          300|\n",
            "|    672|    Panchayat|     3|2024-07-30 15:00:00|  comedy|          200|\n",
            "|    197|   Family Man|     2|2024-07-30 15:00:00|  action|          500|\n",
            "|    521|     Mirzapur|     2|2024-07-29 15:00:00|  action|          280|\n",
            "|    211|Queens Gambit|     1|2024-07-30 15:00:00|   drama|          170|\n",
            "|    521|     Mirzapur|     1|2024-07-28 15:00:00|  action|          230|\n",
            "|    844|    Westworld|     3|2024-07-30 15:00:00|  sci-fi|          310|\n",
            "|    672|    Panchayat|     3|2024-07-29 15:00:00|  comedy|          210|\n",
            "|    256|   Homecoming|     2|2024-07-30 15:00:00|thriller|          310|\n",
            "|    489|  Outer Range|     1|2024-07-30 15:00:00|  sci-fi|          340|\n",
            "|    200| Black Mirror|     2|2024-07-30 15:00:00|  sci-fi|          140|\n",
            "|    256|  Outer Range|     2|2024-07-30 15:00:00|thriller|          250|\n",
            "|    489|  Outer Range|     2|2024-07-28 15:00:00|  sci-fi|          170|\n",
            "|    200| Black Mirror|     3|2024-07-29 15:00:00|  sci-fi|          190|\n",
            "|    672|    Panchayat|     2|2024-07-28 15:00:00|  comedy|          160|\n",
            "|    672|  Outer Range|     1|2024-07-25 15:00:00|  sci-fi|          250|\n",
            "|    200| Black Mirror|     4|2024-07-28 15:00:00|  sci-fi|          200|\n",
            "|    844|    Westworld|     2|2024-07-29 15:00:00|  sci-fi|          300|\n",
            "|    672| Black Mirror|     5|2024-07-28 15:00:00|  sci-fi|          150|\n",
            "|    672|    Panchayat|     1|2024-07-27 15:00:00|  comedy|          190|\n",
            "+-------+-------------+------+-------------------+--------+-------------+\n",
            "\n"
          ]
        }
      ]
    },
    {
      "cell_type": "code",
      "source": [],
      "metadata": {
        "id": "Q_yEDE5DOq9X"
      },
      "execution_count": null,
      "outputs": []
    },
    {
      "cell_type": "code",
      "source": [
        "#Find the user with maximum watchtime\n",
        "ser.select(\"user_id\",\"duration_mins\").sort(\"duration_mins\",ascending=False).limit(1).show()"
      ],
      "metadata": {
        "id": "ddoznJiZIJZI",
        "outputId": "c97e9d60-ce0b-45f6-97b3-6f0409a50dad",
        "colab": {
          "base_uri": "https://localhost:8080/"
        }
      },
      "execution_count": 99,
      "outputs": [
        {
          "output_type": "stream",
          "name": "stdout",
          "text": [
            "+-------+-------------+\n",
            "|user_id|duration_mins|\n",
            "+-------+-------------+\n",
            "|    197|          500|\n",
            "+-------+-------------+\n",
            "\n"
          ]
        }
      ]
    },
    {
      "cell_type": "code",
      "source": [
        "#Calculate overall total Watchtime\n",
        "ser.agg({\"duration_mins\":\"sum\"}).alias(\"total_time\").show()"
      ],
      "metadata": {
        "id": "KCpeY-cyynpN",
        "outputId": "f02ff5bb-7b2f-4e89-96b0-97bc1b6ca30b",
        "colab": {
          "base_uri": "https://localhost:8080/"
        }
      },
      "execution_count": 100,
      "outputs": [
        {
          "output_type": "stream",
          "name": "stdout",
          "text": [
            "+------------------+\n",
            "|sum(duration_mins)|\n",
            "+------------------+\n",
            "|            4850.0|\n",
            "+------------------+\n",
            "\n"
          ]
        }
      ]
    },
    {
      "cell_type": "code",
      "source": [
        "#Find most popular shows (based on watchtime)\n",
        "#ser.agg(f.max(\"duration_mins\")).show()\n",
        "ser.select(\"series\",\"duration_mins\").sort(\"duration_mins\",ascending=False).show(1)"
      ],
      "metadata": {
        "id": "SMnElt2ZIJbJ",
        "outputId": "7064289b-d1c6-41a3-ffc6-fdee7be0220a",
        "colab": {
          "base_uri": "https://localhost:8080/"
        }
      },
      "execution_count": 101,
      "outputs": [
        {
          "output_type": "stream",
          "name": "stdout",
          "text": [
            "+----------+-------------+\n",
            "|    series|duration_mins|\n",
            "+----------+-------------+\n",
            "|Family Man|          500|\n",
            "+----------+-------------+\n",
            "only showing top 1 row\n",
            "\n"
          ]
        }
      ]
    },
    {
      "cell_type": "code",
      "source": [
        "#Find most popular shows (based on user popularity)\n",
        "ser.groupby(\"series\").count().orderBy(f.col(\"count\").desc()).collect()[0][0]"
      ],
      "metadata": {
        "id": "-W2oNioNIJem",
        "outputId": "2533b63d-e8d4-4ab3-fa62-497ba6d628c1",
        "colab": {
          "base_uri": "https://localhost:8080/",
          "height": 35
        }
      },
      "execution_count": 102,
      "outputs": [
        {
          "output_type": "execute_result",
          "data": {
            "text/plain": [
              "'Outer Range'"
            ],
            "application/vnd.google.colaboratory.intrinsic+json": {
              "type": "string"
            }
          },
          "metadata": {},
          "execution_count": 102
        }
      ]
    },
    {
      "cell_type": "code",
      "source": [
        "#Find the most popular genre\n",
        "ser.groupby(\"genre\").count().orderBy(f.col(\"count\").desc()).limit(1).show()"
      ],
      "metadata": {
        "id": "Z-RpLlNFIJgk",
        "outputId": "8c5f1f82-9266-467f-93c7-bb2399dca4b9",
        "colab": {
          "base_uri": "https://localhost:8080/"
        }
      },
      "execution_count": 103,
      "outputs": [
        {
          "output_type": "stream",
          "name": "stdout",
          "text": [
            "+------+-----+\n",
            "| genre|count|\n",
            "+------+-----+\n",
            "|sci-fi|    9|\n",
            "+------+-----+\n",
            "\n"
          ]
        }
      ]
    },
    {
      "cell_type": "code",
      "source": [
        "#Calculate total watchtime per user\n",
        "ser.groupby(\"user_id\").agg(f.sum(\"duration_mins\").alias(\"watch\")).show()"
      ],
      "metadata": {
        "id": "vm_-_AUWIJis",
        "outputId": "cf3ecfa4-a626-42f6-c81c-ca69e3f552da",
        "colab": {
          "base_uri": "https://localhost:8080/"
        }
      },
      "execution_count": 104,
      "outputs": [
        {
          "output_type": "stream",
          "name": "stdout",
          "text": [
            "+-------+------+\n",
            "|user_id| watch|\n",
            "+-------+------+\n",
            "|    521| 810.0|\n",
            "|    200| 530.0|\n",
            "|    672|1160.0|\n",
            "|    256| 560.0|\n",
            "|    197| 500.0|\n",
            "|    211| 170.0|\n",
            "|    844| 610.0|\n",
            "|    489| 510.0|\n",
            "+-------+------+\n",
            "\n"
          ]
        }
      ]
    },
    {
      "cell_type": "code",
      "source": [
        "#Find most popular genre (based on engagement count)\n",
        "ser.groupby(\"genre\").count().sort(\"count\",ascending=False).show()"
      ],
      "metadata": {
        "id": "l-DuDyiOIJlG",
        "outputId": "42c6eb96-1ba5-44c8-e247-0b53c6f872c1",
        "colab": {
          "base_uri": "https://localhost:8080/"
        }
      },
      "execution_count": 105,
      "outputs": [
        {
          "output_type": "stream",
          "name": "stdout",
          "text": [
            "+--------+-----+\n",
            "|   genre|count|\n",
            "+--------+-----+\n",
            "|  sci-fi|    9|\n",
            "|  action|    4|\n",
            "|  comedy|    4|\n",
            "|thriller|    2|\n",
            "|   drama|    1|\n",
            "+--------+-----+\n",
            "\n"
          ]
        }
      ]
    },
    {
      "cell_type": "code",
      "source": [
        "#Find average watchtime per genre\n",
        "ser.groupby(\"genre\").agg(f.avg(\"duration_mins\")).show()"
      ],
      "metadata": {
        "id": "yFFZh-NFIJnQ",
        "outputId": "1a5fee83-75af-4535-be49-ea71d5ad81cb",
        "colab": {
          "base_uri": "https://localhost:8080/"
        }
      },
      "execution_count": 106,
      "outputs": [
        {
          "output_type": "stream",
          "name": "stdout",
          "text": [
            "+--------+------------------+\n",
            "|   genre|avg(duration_mins)|\n",
            "+--------+------------------+\n",
            "|  action|             327.5|\n",
            "|   drama|             170.0|\n",
            "|thriller|             280.0|\n",
            "|  sci-fi|227.77777777777777|\n",
            "|  comedy|             190.0|\n",
            "+--------+------------------+\n",
            "\n"
          ]
        }
      ]
    },
    {
      "cell_type": "code",
      "source": [
        "#Find peak traffic days\n",
        "#(Output 1 = Full Date)\n",
        "ser.select(f.to_date(\"timestamp\")).groupby(\"to_date(timestamp)\").count().sort(\"count\",ascending=False).show(1)\n",
        "\n",
        "#(Output 2 = Only Day)\n",
        "\n",
        "ser.select(f.dayofmonth(\"timestamp\").alias(\"timestamp\")).groupby(\"timestamp\").count().sort(\"count\",ascending=False).collect()[0][0]"
      ],
      "metadata": {
        "id": "HzXnysiXIJpq",
        "outputId": "ab8f291b-85af-4097-8b0e-8d58b4226021",
        "colab": {
          "base_uri": "https://localhost:8080/"
        }
      },
      "execution_count": 107,
      "outputs": [
        {
          "output_type": "stream",
          "name": "stdout",
          "text": [
            "+------------------+-----+\n",
            "|to_date(timestamp)|count|\n",
            "+------------------+-----+\n",
            "|        2024-07-30|    9|\n",
            "+------------------+-----+\n",
            "only showing top 1 row\n",
            "\n"
          ]
        },
        {
          "output_type": "execute_result",
          "data": {
            "text/plain": [
              "30"
            ]
          },
          "metadata": {},
          "execution_count": 107
        }
      ]
    },
    {
      "cell_type": "code",
      "source": [
        "#Find the user with most diverse show preference\n",
        "#ser.groupby(\"user_id\").count().sort(\"count\",ascending=False).show()\n",
        "ser.groupby(\"user_id\").agg(f.countDistinct(\"series\").alias(\"ss\")).sort(\"ss\",ascending=False).show()"
      ],
      "metadata": {
        "id": "yY7SlM8yIJsz",
        "outputId": "ae3176ed-1a5b-43c0-d6b4-dbb7aab0fbb8",
        "colab": {
          "base_uri": "https://localhost:8080/"
        }
      },
      "execution_count": 108,
      "outputs": [
        {
          "output_type": "stream",
          "name": "stdout",
          "text": [
            "+-------+---+\n",
            "|user_id| ss|\n",
            "+-------+---+\n",
            "|    672|  3|\n",
            "|    256|  2|\n",
            "|    521|  1|\n",
            "|    200|  1|\n",
            "|    197|  1|\n",
            "|    211|  1|\n",
            "|    844|  1|\n",
            "|    489|  1|\n",
            "+-------+---+\n",
            "\n"
          ]
        }
      ]
    },
    {
      "cell_type": "code",
      "source": [
        "#Find the binge-watch\n",
        "b=ser.groupby(\"user_id\",\"series\",\"timestamp\").agg(f.count(\"season\").alias(\"cnt\"))\n",
        "b.show()"
      ],
      "metadata": {
        "id": "9UMeWCk-IJvK",
        "outputId": "c827282a-33d4-4ec2-d4ef-850b0077a4a3",
        "colab": {
          "base_uri": "https://localhost:8080/"
        }
      },
      "execution_count": 123,
      "outputs": [
        {
          "output_type": "stream",
          "name": "stdout",
          "text": [
            "+-------+-------------+-------------------+---+\n",
            "|user_id|       series|          timestamp|cnt|\n",
            "+-------+-------------+-------------------+---+\n",
            "|    200| Black Mirror|2024-07-30 15:00:00|  1|\n",
            "|    521|     Mirzapur|2024-07-30 15:00:00|  1|\n",
            "|    489|  Outer Range|2024-07-28 15:00:00|  1|\n",
            "|    672|    Panchayat|2024-07-29 15:00:00|  1|\n",
            "|    489|  Outer Range|2024-07-30 15:00:00|  1|\n",
            "|    197|   Family Man|2024-07-30 15:00:00|  1|\n",
            "|    672|  Outer Range|2024-07-25 15:00:00|  1|\n",
            "|    844|    Westworld|2024-07-29 15:00:00|  1|\n",
            "|    200| Black Mirror|2024-07-28 15:00:00|  1|\n",
            "|    844|    Westworld|2024-07-30 15:00:00|  1|\n",
            "|    256|   Homecoming|2024-07-30 15:00:00|  1|\n",
            "|    200| Black Mirror|2024-07-29 15:00:00|  1|\n",
            "|    521|     Mirzapur|2024-07-28 15:00:00|  1|\n",
            "|    521|     Mirzapur|2024-07-29 15:00:00|  1|\n",
            "|    672|    Panchayat|2024-07-27 15:00:00|  1|\n",
            "|    672|    Panchayat|2024-07-30 15:00:00|  1|\n",
            "|    672| Black Mirror|2024-07-28 15:00:00|  1|\n",
            "|    256|  Outer Range|2024-07-30 15:00:00|  1|\n",
            "|    672|    Panchayat|2024-07-28 15:00:00|  1|\n",
            "|    211|Queens Gambit|2024-07-30 15:00:00|  1|\n",
            "+-------+-------------+-------------------+---+\n",
            "\n"
          ]
        }
      ]
    },
    {
      "cell_type": "code",
      "source": [
        "c=ser.groupby(\"series\").agg({\"season\":\"max\"})\n",
        "c.show()"
      ],
      "metadata": {
        "id": "TfjohGSBjz_V",
        "outputId": "a78b5629-1816-4def-f048-dd34dff56bb5",
        "colab": {
          "base_uri": "https://localhost:8080/"
        }
      },
      "execution_count": 130,
      "outputs": [
        {
          "output_type": "stream",
          "name": "stdout",
          "text": [
            "+-------------+-----------+\n",
            "|       series|max(season)|\n",
            "+-------------+-----------+\n",
            "| Black Mirror|          5|\n",
            "|   Family Man|          2|\n",
            "|   Homecoming|          2|\n",
            "|     Mirzapur|          3|\n",
            "|  Outer Range|          2|\n",
            "|    Panchayat|          3|\n",
            "|Queens Gambit|          1|\n",
            "|    Westworld|          3|\n",
            "+-------------+-----------+\n",
            "\n"
          ]
        }
      ]
    },
    {
      "cell_type": "code",
      "source": [
        "d=b.join(c,'series','inner')\n",
        "d.show()"
      ],
      "metadata": {
        "id": "6a3xOp3LyTIS",
        "outputId": "707a173e-22f0-4db7-d128-c18f41d5b6d5",
        "colab": {
          "base_uri": "https://localhost:8080/"
        }
      },
      "execution_count": 147,
      "outputs": [
        {
          "output_type": "stream",
          "name": "stdout",
          "text": [
            "+-------------+-------+-------------------+---+-----------+\n",
            "|       series|user_id|          timestamp|cnt|max(season)|\n",
            "+-------------+-------+-------------------+---+-----------+\n",
            "| Black Mirror|    200|2024-07-30 15:00:00|  1|          5|\n",
            "|     Mirzapur|    521|2024-07-30 15:00:00|  1|          3|\n",
            "|  Outer Range|    489|2024-07-28 15:00:00|  1|          2|\n",
            "|    Panchayat|    672|2024-07-29 15:00:00|  1|          3|\n",
            "|  Outer Range|    489|2024-07-30 15:00:00|  1|          2|\n",
            "|   Family Man|    197|2024-07-30 15:00:00|  1|          2|\n",
            "|  Outer Range|    672|2024-07-25 15:00:00|  1|          2|\n",
            "|    Westworld|    844|2024-07-29 15:00:00|  1|          3|\n",
            "| Black Mirror|    200|2024-07-28 15:00:00|  1|          5|\n",
            "|    Westworld|    844|2024-07-30 15:00:00|  1|          3|\n",
            "|   Homecoming|    256|2024-07-30 15:00:00|  1|          2|\n",
            "| Black Mirror|    200|2024-07-29 15:00:00|  1|          5|\n",
            "|     Mirzapur|    521|2024-07-28 15:00:00|  1|          3|\n",
            "|     Mirzapur|    521|2024-07-29 15:00:00|  1|          3|\n",
            "|    Panchayat|    672|2024-07-27 15:00:00|  1|          3|\n",
            "|    Panchayat|    672|2024-07-30 15:00:00|  1|          3|\n",
            "| Black Mirror|    672|2024-07-28 15:00:00|  1|          5|\n",
            "|  Outer Range|    256|2024-07-30 15:00:00|  1|          2|\n",
            "|    Panchayat|    672|2024-07-28 15:00:00|  1|          3|\n",
            "|Queens Gambit|    211|2024-07-30 15:00:00|  1|          1|\n",
            "+-------------+-------+-------------------+---+-----------+\n",
            "\n"
          ]
        }
      ]
    },
    {
      "cell_type": "code",
      "source": [
        "d.filter(d[\"cnt\"]==d[\"max(season)\"]).show()"
      ],
      "metadata": {
        "id": "c2zG3dNtzAFO",
        "outputId": "f570cbf4-7330-4c68-c03c-b2fbfca8b58f",
        "colab": {
          "base_uri": "https://localhost:8080/"
        }
      },
      "execution_count": 148,
      "outputs": [
        {
          "output_type": "stream",
          "name": "stdout",
          "text": [
            "+-------------+-------+-------------------+---+-----------+\n",
            "|       series|user_id|          timestamp|cnt|max(season)|\n",
            "+-------------+-------+-------------------+---+-----------+\n",
            "|Queens Gambit|    211|2024-07-30 15:00:00|  1|          1|\n",
            "+-------------+-------+-------------------+---+-----------+\n",
            "\n"
          ]
        }
      ]
    },
    {
      "cell_type": "code",
      "source": [
        "#Find the user with longest watching streak\n",
        "#ser.select(f.max(\"duration_mins\")).show()\n",
        "ser.select(\"user_id\",\"duration_mins\").sort(\"duration_mins\",ascending=False).collect()[0][0]"
      ],
      "metadata": {
        "id": "14CBZwe2M3rZ",
        "outputId": "bec09060-92cc-44b6-cb6a-9c4df4d76849",
        "colab": {
          "base_uri": "https://localhost:8080/",
          "height": 35
        }
      },
      "execution_count": 111,
      "outputs": [
        {
          "output_type": "execute_result",
          "data": {
            "text/plain": [
              "'197'"
            ],
            "application/vnd.google.colaboratory.intrinsic+json": {
              "type": "string"
            }
          },
          "metadata": {},
          "execution_count": 111
        }
      ]
    },
    {
      "cell_type": "code",
      "source": [
        "#Total Seasons available\n",
        "ser.groupby(\"series\").agg(f.max(\"season\").alias(\"tot_cou\")).agg(f.sum(\"tot_cou\")).show()"
      ],
      "metadata": {
        "id": "X0HCvFNbye9Y",
        "outputId": "cfceff20-35b6-4486-8601-bd3bce5a9ad1",
        "colab": {
          "base_uri": "https://localhost:8080/"
        }
      },
      "execution_count": 112,
      "outputs": [
        {
          "output_type": "stream",
          "name": "stdout",
          "text": [
            "+------------+\n",
            "|sum(tot_cou)|\n",
            "+------------+\n",
            "|        21.0|\n",
            "+------------+\n",
            "\n"
          ]
        }
      ]
    },
    {
      "cell_type": "code",
      "source": [
        "#Fetch a list of all series\n",
        "a=ser.select(\"series\").distinct()\n",
        "a.show()"
      ],
      "metadata": {
        "id": "weylH9PDM3uU",
        "outputId": "5cc41a4d-669a-4b33-8560-1a26d0a1a84f",
        "colab": {
          "base_uri": "https://localhost:8080/"
        }
      },
      "execution_count": 113,
      "outputs": [
        {
          "output_type": "stream",
          "name": "stdout",
          "text": [
            "+-------------+\n",
            "|       series|\n",
            "+-------------+\n",
            "|  Outer Range|\n",
            "| Black Mirror|\n",
            "|    Westworld|\n",
            "|   Family Man|\n",
            "|   Homecoming|\n",
            "|     Mirzapur|\n",
            "|    Panchayat|\n",
            "|Queens Gambit|\n",
            "+-------------+\n",
            "\n"
          ]
        }
      ]
    },
    {
      "cell_type": "code",
      "source": [
        "a.rdd.flatMap(lambda x:x).collect()"
      ],
      "metadata": {
        "id": "bmlUUoKSc72I",
        "outputId": "4f899ba1-1885-44de-c235-9cf7b83f089c",
        "colab": {
          "base_uri": "https://localhost:8080/"
        }
      },
      "execution_count": 114,
      "outputs": [
        {
          "output_type": "execute_result",
          "data": {
            "text/plain": [
              "['Outer Range',\n",
              " 'Black Mirror',\n",
              " 'Westworld',\n",
              " 'Family Man',\n",
              " 'Homecoming',\n",
              " 'Mirzapur',\n",
              " 'Panchayat',\n",
              " 'Queens Gambit']"
            ]
          },
          "metadata": {},
          "execution_count": 114
        }
      ]
    },
    {
      "cell_type": "code",
      "source": [],
      "metadata": {
        "id": "vl2r64lbd-Wd"
      },
      "execution_count": null,
      "outputs": []
    }
  ]
}